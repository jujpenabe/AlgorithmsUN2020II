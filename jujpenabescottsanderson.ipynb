{
  "nbformat": 4,
  "nbformat_minor": 0,
  "metadata": {
    "celltoolbar": "Slideshow",
    "kernelspec": {
      "display_name": "Python 3",
      "language": "python",
      "name": "python3"
    },
    "language_info": {
      "codemirror_mode": {
        "name": "ipython",
        "version": 3
      },
      "file_extension": ".py",
      "mimetype": "text/x-python",
      "name": "python",
      "nbconvert_exporter": "python",
      "pygments_lexer": "ipython3",
      "version": "3.5.2"
    },
    "livereveal": {
      "start_slideshow_at": "selected"
    },
    "name": "Main.ipynb",
    "colab": {
      "name": "jujpenabescottsanderson.ipynb",
      "provenance": [],
      "toc_visible": true
    }
  },
  "cells": [
    {
      "cell_type": "code",
      "metadata": {
        "id": "zJRud2CFZ7Dp",
        "colab_type": "code",
        "colab": {
          "base_uri": "https://localhost:8080/",
          "height": 349
        },
        "outputId": "72e11ef2-a2aa-4264-8e62-18c3ce9f6d80"
      },
      "source": [
        "pip install -U fortran-magic"
      ],
      "execution_count": 2,
      "outputs": [
        {
          "output_type": "stream",
          "text": [
            "Collecting fortran-magic\n",
            "  Downloading https://files.pythonhosted.org/packages/53/b1/d664bd431354c450f40fa436b2c9306666cd417b23098dd5636751c557a4/fortran_magic-0.7-py3-none-any.whl\n",
            "Requirement already satisfied, skipping upgrade: numpy in /usr/local/lib/python3.6/dist-packages (from fortran-magic) (1.18.5)\n",
            "Requirement already satisfied, skipping upgrade: ipython in /usr/local/lib/python3.6/dist-packages (from fortran-magic) (5.5.0)\n",
            "Requirement already satisfied, skipping upgrade: traitlets>=4.2 in /usr/local/lib/python3.6/dist-packages (from ipython->fortran-magic) (4.3.3)\n",
            "Requirement already satisfied, skipping upgrade: pickleshare in /usr/local/lib/python3.6/dist-packages (from ipython->fortran-magic) (0.7.5)\n",
            "Requirement already satisfied, skipping upgrade: pexpect; sys_platform != \"win32\" in /usr/local/lib/python3.6/dist-packages (from ipython->fortran-magic) (4.8.0)\n",
            "Requirement already satisfied, skipping upgrade: prompt-toolkit<2.0.0,>=1.0.4 in /usr/local/lib/python3.6/dist-packages (from ipython->fortran-magic) (1.0.18)\n",
            "Requirement already satisfied, skipping upgrade: pygments in /usr/local/lib/python3.6/dist-packages (from ipython->fortran-magic) (2.6.1)\n",
            "Requirement already satisfied, skipping upgrade: simplegeneric>0.8 in /usr/local/lib/python3.6/dist-packages (from ipython->fortran-magic) (0.8.1)\n",
            "Requirement already satisfied, skipping upgrade: decorator in /usr/local/lib/python3.6/dist-packages (from ipython->fortran-magic) (4.4.2)\n",
            "Requirement already satisfied, skipping upgrade: setuptools>=18.5 in /usr/local/lib/python3.6/dist-packages (from ipython->fortran-magic) (50.3.0)\n",
            "Requirement already satisfied, skipping upgrade: ipython-genutils in /usr/local/lib/python3.6/dist-packages (from traitlets>=4.2->ipython->fortran-magic) (0.2.0)\n",
            "Requirement already satisfied, skipping upgrade: six in /usr/local/lib/python3.6/dist-packages (from traitlets>=4.2->ipython->fortran-magic) (1.15.0)\n",
            "Requirement already satisfied, skipping upgrade: ptyprocess>=0.5 in /usr/local/lib/python3.6/dist-packages (from pexpect; sys_platform != \"win32\"->ipython->fortran-magic) (0.6.0)\n",
            "Requirement already satisfied, skipping upgrade: wcwidth in /usr/local/lib/python3.6/dist-packages (from prompt-toolkit<2.0.0,>=1.0.4->ipython->fortran-magic) (0.2.5)\n",
            "Installing collected packages: fortran-magic\n",
            "Successfully installed fortran-magic-0.7\n"
          ],
          "name": "stdout"
        }
      ]
    },
    {
      "cell_type": "code",
      "metadata": {
        "id": "_wRMRa_UaX-t",
        "colab_type": "code",
        "colab": {
          "base_uri": "https://localhost:8080/",
          "height": 72
        },
        "outputId": "b015951b-0502-4a30-b384-604ef049eb70"
      },
      "source": [
        "%reload_ext fortranmagic\n",
        "%reload_ext fortranmagic"
      ],
      "execution_count": 7,
      "outputs": [
        {
          "output_type": "stream",
          "text": [
            "/usr/local/lib/python3.6/dist-packages/fortranmagic.py:147: UserWarning: get_ipython_cache_dir has moved to the IPython.paths module since IPython 4.0.\n",
            "  self._lib_dir = os.path.join(get_ipython_cache_dir(), 'fortran')\n"
          ],
          "name": "stderr"
        },
        {
          "output_type": "display_data",
          "data": {
            "application/javascript": [
              "$.getScript(\"https://raw.github.com/marijnh/CodeMirror/master/mode/fortran/fortran.js\", function () {\n",
              "IPython.config.cell_magic_highlight['magic_fortran'] = {'reg':[/^%%fortran/]};});\n"
            ]
          },
          "metadata": {
            "tags": []
          }
        },
        {
          "output_type": "display_data",
          "data": {
            "application/javascript": [
              "$.getScript(\"https://raw.github.com/marijnh/CodeMirror/master/mode/fortran/fortran.js\", function () {\n",
              "IPython.config.cell_magic_highlight['magic_fortran'] = {'reg':[/^%%fortran/]};});\n"
            ]
          },
          "metadata": {
            "tags": []
          }
        }
      ]
    },
    {
      "cell_type": "code",
      "metadata": {
        "autoscroll": false,
        "ein.tags": "worksheet-0",
        "id": "xkPvwRgbZMfA",
        "colab_type": "code",
        "colab": {
          "base_uri": "https://localhost:8080/",
          "height": 69
        },
        "outputId": "2e017aef-c2e9-4c28-a7b4-cd23366345e8"
      },
      "source": [
        "%matplotlib inline\n",
        "%load_ext fortranmagic\n",
        "\n",
        "import sys; sys.path.append('..')\n",
        "\n",
        "import pandas as pd\n",
        "import numpy as np\n",
        "import matplotlib as mpl\n",
        "import matplotlib.pyplot as plt\n",
        "import seaborn as sns\n",
        "\n",
        "mpl.rc('figure', figsize=(12, 7))\n",
        "\n",
        "ran_the_first_cell = True\n",
        "\n",
        "jan2017 = pd.to_datetime(['2017-01-03 00:00:00+00:00',\n",
        " '2017-01-04 00:00:00+00:00',\n",
        " '2017-01-05 00:00:00+00:00',\n",
        " '2017-01-06 00:00:00+00:00',\n",
        " '2017-01-09 00:00:00+00:00',\n",
        " '2017-01-10 00:00:00+00:00',\n",
        " '2017-01-11 00:00:00+00:00',\n",
        " '2017-01-12 00:00:00+00:00',\n",
        " '2017-01-13 00:00:00+00:00',\n",
        " '2017-01-17 00:00:00+00:00',\n",
        " '2017-01-18 00:00:00+00:00',\n",
        " '2017-01-19 00:00:00+00:00',\n",
        " '2017-01-20 00:00:00+00:00',\n",
        " '2017-01-23 00:00:00+00:00',\n",
        " '2017-01-24 00:00:00+00:00',\n",
        " '2017-01-25 00:00:00+00:00',\n",
        " '2017-01-26 00:00:00+00:00',\n",
        " '2017-01-27 00:00:00+00:00',\n",
        " '2017-01-30 00:00:00+00:00',\n",
        " '2017-01-31 00:00:00+00:00',\n",
        " '2017-02-01 00:00:00+00:00'])\n",
        "calendar = jan2017.values.astype('datetime64[D]')\n",
        "\n",
        "event_dates = pd.to_datetime(['2017-01-06 00:00:00+00:00', \n",
        "                             '2017-01-07 00:00:00+00:00', \n",
        "                             '2017-01-08 00:00:00+00:00']).values.astype('datetime64[D]')\n",
        "event_values = np.array([10, 15, 20])\n",
        "print (event_values)"
      ],
      "execution_count": 8,
      "outputs": [
        {
          "output_type": "stream",
          "text": [
            "The fortranmagic extension is already loaded. To reload it, use:\n",
            "  %reload_ext fortranmagic\n",
            "[10 15 20]\n"
          ],
          "name": "stdout"
        }
      ]
    },
    {
      "cell_type": "markdown",
      "metadata": {
        "ein.tags": "worksheet-0",
        "id": "HaDd7ktuZMfH",
        "colab_type": "text"
      },
      "source": [
        "<center>\n",
        "  <h1>The PyData Toolbox</h1>\n",
        "  <h3>Scott Sanderson (Twitter: @scottbsanderson, GitHub: ssanderson)</h3>\n",
        "  <h3><a href=\"https://github.com/ssanderson/pydata-toolbox\">https://github.com/ssanderson/pydata-toolbox</a></h3>\n",
        "</center> \n",
        "OK"
      ]
    },
    {
      "cell_type": "markdown",
      "metadata": {
        "collapsed": true,
        "ein.tags": "worksheet-0",
        "id": "3nVR3RQxZMfI",
        "colab_type": "text"
      },
      "source": [
        "# About Me:\n",
        "\n",
        "<img src=\"images/me.jpg\" alt=\"Drawing\" style=\"width: 300px;\"/>\n",
        "\n",
        "- Senior Engineer at [Quantopian](www.quantopian.com)\n",
        "- Background in Mathematics and Philosophy\n",
        "- **Twitter:** [@scottbsanderson](https://twitter.com/scottbsanderson)\n",
        "- **GitHub:** [ssanderson](github.com/ssanderson)\n",
        "OK"
      ]
    },
    {
      "cell_type": "markdown",
      "metadata": {
        "id": "tDq5HzK0ZMfJ",
        "colab_type": "text"
      },
      "source": [
        "## Outline\n",
        "\n",
        "- Built-in Data Structures\n",
        "- Numpy `array`\n",
        "- Pandas `Series`/`DataFrame`\n",
        "- Plotting and \"Real-World\" Analyses\n",
        "OK"
      ]
    },
    {
      "cell_type": "markdown",
      "metadata": {
        "id": "N4hmReqsZMfK",
        "colab_type": "text"
      },
      "source": [
        "# Data Structures OK"
      ]
    },
    {
      "cell_type": "markdown",
      "metadata": {
        "id": "G6LCBjoAZMfL",
        "colab_type": "text"
      },
      "source": [
        "> Rule 5. Data dominates. If you've chosen the right data structures and organized things well, the algorithms\n",
        "will almost always be self-evident. Data structures, not algorithms, are central to programming.\n",
        "\n",
        "- *Notes on Programming in C*, by Rob Pike. OK"
      ]
    },
    {
      "cell_type": "markdown",
      "metadata": {
        "id": "WN6Qu3bVZMfN",
        "colab_type": "text"
      },
      "source": [
        "# Lists OK"
      ]
    },
    {
      "cell_type": "code",
      "metadata": {
        "id": "LR08YOoQZMfO",
        "colab_type": "code",
        "colab": {}
      },
      "source": [
        "assert ran_the_first_cell, \"Oh noes!\""
      ],
      "execution_count": 10,
      "outputs": []
    },
    {
      "cell_type": "code",
      "metadata": {
        "id": "m8F3N_RVZMfR",
        "colab_type": "code",
        "colab": {
          "base_uri": "https://localhost:8080/",
          "height": 35
        },
        "outputId": "3fd0acac-fef3-415c-9813-41acb33cdc1d"
      },
      "source": [
        "l = [1, 'two', 3.0, 4, 5.0, \"six\"]\n",
        "l\n",
        "t = [20, 'four', 4.4, 10, \"NINE\"]\n",
        "t"
      ],
      "execution_count": 12,
      "outputs": [
        {
          "output_type": "execute_result",
          "data": {
            "text/plain": [
              "[20, 'four', 4.4, 10, 'NINE']"
            ]
          },
          "metadata": {
            "tags": []
          },
          "execution_count": 12
        }
      ]
    },
    {
      "cell_type": "code",
      "metadata": {
        "id": "V_X0Kv-LZMfV",
        "colab_type": "code",
        "colab": {
          "base_uri": "https://localhost:8080/",
          "height": 69
        },
        "outputId": "e6492d35-5041-4fb5-9577-8d1412fc9976"
      },
      "source": [
        "# Lists can be indexed like C-style arrays.\n",
        "first = l[0]\n",
        "second = l[1]\n",
        "third = t[2]\n",
        "print(\"first:\", first)\n",
        "print(\"second:\", second)\n",
        "print(\"third:\", third)"
      ],
      "execution_count": 13,
      "outputs": [
        {
          "output_type": "stream",
          "text": [
            "first: 1\n",
            "second: two\n",
            "third: 4.4\n"
          ],
          "name": "stdout"
        }
      ]
    },
    {
      "cell_type": "code",
      "metadata": {
        "id": "jGfusarHZMfZ",
        "colab_type": "code",
        "colab": {
          "base_uri": "https://localhost:8080/",
          "height": 69
        },
        "outputId": "ccb89e42-306e-4bd9-9e86-d526a605e7e7"
      },
      "source": [
        "# Negative indexing gives elements relative to the end of the list.\n",
        "last = l[-1]\n",
        "penultimate = l[-2]\n",
        "tultimate = t[-1]\n",
        "print(\"last:\", last)\n",
        "print(\"second to last:\", penultimate)\n",
        "print(\"t last:\", tultimate)"
      ],
      "execution_count": 14,
      "outputs": [
        {
          "output_type": "stream",
          "text": [
            "last: six\n",
            "second to last: 5.0\n",
            "t last: NINE\n"
          ],
          "name": "stdout"
        }
      ]
    },
    {
      "cell_type": "code",
      "metadata": {
        "id": "0KSZ8jO4ZMfe",
        "colab_type": "code",
        "colab": {
          "base_uri": "https://localhost:8080/",
          "height": 35
        },
        "outputId": "713ae242-4794-4a43-d0c2-18802ed0875f"
      },
      "source": [
        "# Lists can also be sliced, which makes a copy of elements between \n",
        "# start (inclusive) and stop (exclusive)\n",
        "sublist = l[1:3]\n",
        "sublist\n",
        "othersublist = t[1:-1]\n",
        "othersublist"
      ],
      "execution_count": 21,
      "outputs": [
        {
          "output_type": "execute_result",
          "data": {
            "text/plain": [
              "['four', 4.4, 10]"
            ]
          },
          "metadata": {
            "tags": []
          },
          "execution_count": 21
        }
      ]
    },
    {
      "cell_type": "code",
      "metadata": {
        "id": "7IiiOragZMfi",
        "colab_type": "code",
        "colab": {
          "base_uri": "https://localhost:8080/",
          "height": 35
        },
        "outputId": "f11a7efb-5d14-489d-d770-6984a3b12aa1"
      },
      "source": [
        "# l[:N] is equivalent to l[0:N].\n",
        "first_three = l[:3]\n",
        "first_three\n",
        "last_t_three = t[-3:]\n",
        "last_t_three"
      ],
      "execution_count": 24,
      "outputs": [
        {
          "output_type": "execute_result",
          "data": {
            "text/plain": [
              "[4.4, 10, 'NINE']"
            ]
          },
          "metadata": {
            "tags": []
          },
          "execution_count": 24
        }
      ]
    },
    {
      "cell_type": "code",
      "metadata": {
        "id": "l-MXah5DZMfl",
        "colab_type": "code",
        "colab": {
          "base_uri": "https://localhost:8080/",
          "height": 35
        },
        "outputId": "2ee49e84-333a-4a71-ef1f-0a713cbe7c96"
      },
      "source": [
        "# l[3:] is equivalent to l[3:len(l)].\n",
        "after_three = l[3:]\n",
        "after_three\n",
        "after_t_four = t[4:]\n",
        "after_t_four"
      ],
      "execution_count": 26,
      "outputs": [
        {
          "output_type": "execute_result",
          "data": {
            "text/plain": [
              "['NINE']"
            ]
          },
          "metadata": {
            "tags": []
          },
          "execution_count": 26
        }
      ]
    },
    {
      "cell_type": "code",
      "metadata": {
        "id": "l9BckkBMZMfq",
        "colab_type": "code",
        "colab": {
          "base_uri": "https://localhost:8080/",
          "height": 35
        },
        "outputId": "e499cd47-1f14-44f5-a696-6bfd426d3fa1"
      },
      "source": [
        "# There's also a third parameter, \"step\", which gets every Nth element.\n",
        "l = ['a', 'b', 'c', 'd', 'e', 'f', 'g','h']\n",
        "l[1:7:2]\n",
        "t = ['1', '2', '3', '4', '5', '6', '7', '8']\n",
        "t[1::3]"
      ],
      "execution_count": 27,
      "outputs": [
        {
          "output_type": "execute_result",
          "data": {
            "text/plain": [
              "['2', '5', '8']"
            ]
          },
          "metadata": {
            "tags": []
          },
          "execution_count": 27
        }
      ]
    },
    {
      "cell_type": "code",
      "metadata": {
        "id": "Mg9y1miHZMft",
        "colab_type": "code",
        "colab": {
          "base_uri": "https://localhost:8080/",
          "height": 35
        },
        "outputId": "0d4f42d7-8e4a-4400-f459-b89965efd54a"
      },
      "source": [
        "# This is a cute way to reverse a list.\n",
        "l[::-1]\n",
        "t[::-1]"
      ],
      "execution_count": 28,
      "outputs": [
        {
          "output_type": "execute_result",
          "data": {
            "text/plain": [
              "['8', '7', '6', '5', '4', '3', '2', '1']"
            ]
          },
          "metadata": {
            "tags": []
          },
          "execution_count": 28
        }
      ]
    },
    {
      "cell_type": "code",
      "metadata": {
        "id": "JZu5eSVBZMfw",
        "colab_type": "code",
        "colab": {
          "base_uri": "https://localhost:8080/",
          "height": 87
        },
        "outputId": "4e63af88-45e8-418f-f84d-fe57f77dc7b2"
      },
      "source": [
        "# Lists can be grown efficiently (in O(1) amortized time).\n",
        "l = [1, 2, 3, 4, 5]\n",
        "print(\"Before:\", l)\n",
        "l.append('six')\n",
        "print(\"After:\", l)\n",
        "print(\"Before:\", t)\n",
        "t.append('44')\n",
        "print(\"After:\", t)"
      ],
      "execution_count": 29,
      "outputs": [
        {
          "output_type": "stream",
          "text": [
            "Before: [1, 2, 3, 4, 5]\n",
            "After: [1, 2, 3, 4, 5, 'six']\n",
            "Before: ['1', '2', '3', '4', '5', '6', '7', '8']\n",
            "After: ['1', '2', '3', '4', '5', '6', '7', '8', '44']\n"
          ],
          "name": "stdout"
        }
      ]
    },
    {
      "cell_type": "code",
      "metadata": {
        "id": "ZjeLuXl0ZMfz",
        "colab_type": "code",
        "colab": {
          "base_uri": "https://localhost:8080/",
          "height": 35
        },
        "outputId": "6fdeef89-ae88-4e99-b287-d6283dde427a"
      },
      "source": [
        "# Comprehensions let us perform elementwise computations.\n",
        "l = [1, 2, 3, 4, 5]\n",
        "[x * 2 for x in l]\n",
        "[x * 2 for x in t[::2]]"
      ],
      "execution_count": 36,
      "outputs": [
        {
          "output_type": "execute_result",
          "data": {
            "text/plain": [
              "['11', '33', '55', '77', '4444']"
            ]
          },
          "metadata": {
            "tags": []
          },
          "execution_count": 36
        }
      ]
    },
    {
      "cell_type": "markdown",
      "metadata": {
        "ein.tags": "worksheet-0",
        "id": "37IQMIAAZMf1",
        "colab_type": "text"
      },
      "source": [
        "## Review: Python Lists\n",
        "\n",
        "- Zero-indexed sequence of arbitrary Python values.\n",
        "- Slicing syntax: `l[start:stop:step]` copies elements at regular intervals from `start` to `stop`.\n",
        "- Efficient (`O(1)`) appends and removes from end.\n",
        "- Comprehension syntax: `[f(x) for x in l if cond(x)]`.\n",
        "OK"
      ]
    },
    {
      "cell_type": "markdown",
      "metadata": {
        "id": "Ig1vVoRBZMf2",
        "colab_type": "text"
      },
      "source": [
        "# Dictionaries"
      ]
    },
    {
      "cell_type": "code",
      "metadata": {
        "id": "feP9kcCAZMf2",
        "colab_type": "code",
        "colab": {
          "base_uri": "https://localhost:8080/",
          "height": 104
        },
        "outputId": "2990a3a9-4fb2-4785-fe5e-9ed1482ece7f"
      },
      "source": [
        "# Dictionaries are key-value mappings.\n",
        "philosophers = {'David': 'Hume', 'Immanuel': 'Kant', 'Bertrand': 'Russell'}\n",
        "philosophers\n",
        "backyardigans = {'Pink': 'Uniqua', 'Blue': 'Pablo', 'Yellow': 'Tasha', 'Orange':'Tyrone','Purple':'Austin'}\n",
        "backyardigans"
      ],
      "execution_count": 42,
      "outputs": [
        {
          "output_type": "execute_result",
          "data": {
            "text/plain": [
              "{'Blue': 'Pablo',\n",
              " 'Orange': 'Tyrone',\n",
              " 'Pink': 'Uniqua',\n",
              " 'Purple': 'Austin',\n",
              " 'Yellow': 'Tasha'}"
            ]
          },
          "metadata": {
            "tags": []
          },
          "execution_count": 42
        }
      ]
    },
    {
      "cell_type": "code",
      "metadata": {
        "id": "T7gXznIHZMf5",
        "colab_type": "code",
        "colab": {
          "base_uri": "https://localhost:8080/",
          "height": 121
        },
        "outputId": "0007a240-cd17-4fb3-ad25-26522ec03c17"
      },
      "source": [
        "# Like lists, dictionaries are size-mutable.\n",
        "philosophers['Ludwig'] = 'Wittgenstein'\n",
        "philosophers\n",
        "backyardigans['Pichula'] = 'Entusiasmada'\n",
        "backyardigans"
      ],
      "execution_count": 43,
      "outputs": [
        {
          "output_type": "execute_result",
          "data": {
            "text/plain": [
              "{'Blue': 'Pablo',\n",
              " 'Orange': 'Tyrone',\n",
              " 'Pichula': 'Entusiasmada',\n",
              " 'Pink': 'Uniqua',\n",
              " 'Purple': 'Austin',\n",
              " 'Yellow': 'Tasha'}"
            ]
          },
          "metadata": {
            "tags": []
          },
          "execution_count": 43
        }
      ]
    },
    {
      "cell_type": "code",
      "metadata": {
        "id": "11CwiEPrZMf8",
        "colab_type": "code",
        "colab": {
          "base_uri": "https://localhost:8080/",
          "height": 104
        },
        "outputId": "35b49f75-ee44-403b-fb32-b13e1c833bb6"
      },
      "source": [
        "del philosophers['David']\n",
        "philosophers\n",
        "del backyardigans['Purple']\n",
        "backyardigans"
      ],
      "execution_count": 44,
      "outputs": [
        {
          "output_type": "execute_result",
          "data": {
            "text/plain": [
              "{'Blue': 'Pablo',\n",
              " 'Orange': 'Tyrone',\n",
              " 'Pichula': 'Entusiasmada',\n",
              " 'Pink': 'Uniqua',\n",
              " 'Yellow': 'Tasha'}"
            ]
          },
          "metadata": {
            "tags": []
          },
          "execution_count": 44
        }
      ]
    },
    {
      "cell_type": "code",
      "metadata": {
        "id": "79FzSkvlZMf_",
        "colab_type": "code",
        "colab": {
          "base_uri": "https://localhost:8080/",
          "height": 201
        },
        "outputId": "87290137-cb8f-4e41-b5b4-48a265dfc32b"
      },
      "source": [
        "# No slicing.\n",
        "philosophers['Bertrand':'Immanuel']\n",
        "backyardigans['Pink':'Blue']"
      ],
      "execution_count": 45,
      "outputs": [
        {
          "output_type": "error",
          "ename": "TypeError",
          "evalue": "ignored",
          "traceback": [
            "\u001b[0;31m---------------------------------------------------------------------------\u001b[0m",
            "\u001b[0;31mTypeError\u001b[0m                                 Traceback (most recent call last)",
            "\u001b[0;32m<ipython-input-45-0ffea028cdd5>\u001b[0m in \u001b[0;36m<module>\u001b[0;34m()\u001b[0m\n\u001b[1;32m      1\u001b[0m \u001b[0;31m# No slicing.\u001b[0m\u001b[0;34m\u001b[0m\u001b[0;34m\u001b[0m\u001b[0;34m\u001b[0m\u001b[0m\n\u001b[0;32m----> 2\u001b[0;31m \u001b[0mphilosophers\u001b[0m\u001b[0;34m[\u001b[0m\u001b[0;34m'Bertrand'\u001b[0m\u001b[0;34m:\u001b[0m\u001b[0;34m'Immanuel'\u001b[0m\u001b[0;34m]\u001b[0m\u001b[0;34m\u001b[0m\u001b[0;34m\u001b[0m\u001b[0m\n\u001b[0m\u001b[1;32m      3\u001b[0m \u001b[0mbackyardigans\u001b[0m\u001b[0;34m[\u001b[0m\u001b[0;34m'Pink'\u001b[0m\u001b[0;34m:\u001b[0m\u001b[0;34m'Blue'\u001b[0m\u001b[0;34m]\u001b[0m\u001b[0;34m\u001b[0m\u001b[0;34m\u001b[0m\u001b[0m\n",
            "\u001b[0;31mTypeError\u001b[0m: unhashable type: 'slice'"
          ]
        }
      ]
    },
    {
      "cell_type": "markdown",
      "metadata": {
        "ein.tags": "worksheet-0",
        "id": "brUAEdkVZMgE",
        "colab_type": "text"
      },
      "source": [
        "## Review: Python Dictionaries\n",
        "\n",
        "- Unordered key-value mapping from (almost) arbitrary keys to arbitrary values.\n",
        "- Efficient (`O(1)`) lookup, insertion, and deletion.\n",
        "- No slicing (would require a notion of order). \n",
        "OK"
      ]
    },
    {
      "cell_type": "markdown",
      "metadata": {
        "id": "iKLqzk2uZMgE",
        "colab_type": "text"
      },
      "source": [
        "<center><img src=\"images/pacino.gif\" alt=\"Drawing\" style=\"width: 100%;\"/></center>\n"
      ]
    },
    {
      "cell_type": "code",
      "metadata": {
        "id": "ZB0QkNivZMgF",
        "colab_type": "code",
        "colab": {}
      },
      "source": [
        "# Suppose we have some matrices...\n",
        "a = [[1, 2, 3],\n",
        "     [2, 3, 4],\n",
        "     [5, 6, 7],\n",
        "     [1, 1, 1]]\n",
        "\n",
        "b = [[1, 2, 3, 4],\n",
        "     [2, 3, 4, 5]]\n",
        "c = [[1, 2],\n",
        "     [3, 6],\n",
        "     [9, 9]]\n",
        "d = [[1,1,1],\n",
        "     [0,0,0]]"
      ],
      "execution_count": 61,
      "outputs": []
    },
    {
      "cell_type": "code",
      "metadata": {
        "id": "oWq9oF2XZMgJ",
        "colab_type": "code",
        "colab": {}
      },
      "source": [
        "def matmul(A, B):\n",
        "    \"\"\"Multiply matrix A by matrix B.\"\"\"\n",
        "    rows_out = len(A)\n",
        "    cols_out = len(B[0])\n",
        "    out = [[0 for col in range(cols_out)] for row in range(rows_out)]\n",
        "    \n",
        "    for i in range(rows_out):\n",
        "        for j in range(cols_out):\n",
        "            for k in range(len(B)):\n",
        "                out[i][j] += A[i][k] * B[k][j]\n",
        "    return out"
      ],
      "execution_count": 47,
      "outputs": []
    },
    {
      "cell_type": "markdown",
      "metadata": {
        "id": "W3UAu4hFZMgM",
        "colab_type": "text"
      },
      "source": [
        "<center><img src=\"images/gross.gif\" alt=\"Drawing\" style=\"width: 50%;\"/></center>\n"
      ]
    },
    {
      "cell_type": "code",
      "metadata": {
        "id": "F_tRIk01ZMgN",
        "colab_type": "code",
        "colab": {
          "base_uri": "https://localhost:8080/",
          "height": 69
        },
        "outputId": "d29b2676-1ca0-4f19-82b6-047ac52fc63a"
      },
      "source": [
        "%%time\n",
        "\n",
        "#matmul(a, b)\n",
        "matmul(c, d)"
      ],
      "execution_count": 63,
      "outputs": [
        {
          "output_type": "stream",
          "text": [
            "CPU times: user 17 µs, sys: 0 ns, total: 17 µs\n",
            "Wall time: 20.3 µs\n"
          ],
          "name": "stdout"
        },
        {
          "output_type": "execute_result",
          "data": {
            "text/plain": [
              "[[1, 1, 1], [3, 3, 3], [9, 9, 9]]"
            ]
          },
          "metadata": {
            "tags": []
          },
          "execution_count": 63
        }
      ]
    },
    {
      "cell_type": "code",
      "metadata": {
        "id": "95PJcRoCZMgQ",
        "colab_type": "code",
        "colab": {
          "base_uri": "https://localhost:8080/",
          "height": 35
        },
        "outputId": "6af7f9d9-2479-4d07-9e18-3ff3cf561d00"
      },
      "source": [
        "import random\n",
        "def random_matrix(m, n):\n",
        "    out = []\n",
        "    for row in range(m):\n",
        "        out.append([random.random() for _ in range(n)])\n",
        "    return out\n",
        "\n",
        "randm = random_matrix(2, 3)\n",
        "randm\n",
        "randm2 = random_matrix(1,2)\n",
        "randm2"
      ],
      "execution_count": 66,
      "outputs": [
        {
          "output_type": "execute_result",
          "data": {
            "text/plain": [
              "[[0.3068883892233304, 0.17643678580117295]]"
            ]
          },
          "metadata": {
            "tags": []
          },
          "execution_count": 66
        }
      ]
    },
    {
      "cell_type": "code",
      "metadata": {
        "scrolled": true,
        "id": "N3j7ftFaZMgS",
        "colab_type": "code",
        "colab": {
          "base_uri": "https://localhost:8080/",
          "height": 52
        },
        "outputId": "d72c89f7-cac2-4208-aac2-d13471ce0b55"
      },
      "source": [
        "%%time\n",
        "randa = random_matrix(600, 100)\n",
        "randb = random_matrix(100, 600)\n",
        "x = matmul(randa, randb)"
      ],
      "execution_count": 67,
      "outputs": [
        {
          "output_type": "stream",
          "text": [
            "CPU times: user 6.86 s, sys: 9.9 ms, total: 6.87 s\n",
            "Wall time: 6.88 s\n"
          ],
          "name": "stdout"
        }
      ]
    },
    {
      "cell_type": "code",
      "metadata": {
        "id": "ZdkClcXDZMgV",
        "colab_type": "code",
        "colab": {}
      },
      "source": [
        "# Maybe that's not that bad?  Let's try a simpler case.\n",
        "def python_dot_product(xs, ys):\n",
        "    return sum(x * y for x, y in zip(xs, ys))"
      ],
      "execution_count": 68,
      "outputs": []
    },
    {
      "cell_type": "code",
      "metadata": {
        "id": "hpTldydXZMgX",
        "colab_type": "code",
        "colab": {}
      },
      "source": [
        "%%fortran\n",
        "subroutine fortran_dot_product(xs, ys, result)\n",
        "    double precision, intent(in) :: xs(:)\n",
        "    double precision, intent(in) :: ys(:)\n",
        "    double precision, intent(out) :: result\n",
        "    \n",
        "    result = sum(xs * ys)\n",
        "end"
      ],
      "execution_count": 69,
      "outputs": []
    },
    {
      "cell_type": "code",
      "metadata": {
        "id": "wTarYmejZMgd",
        "colab_type": "code",
        "colab": {
          "base_uri": "https://localhost:8080/",
          "height": 35
        },
        "outputId": "68302f11-91ba-41aa-9018-c650f29c3d55"
      },
      "source": [
        "list_data = [float(i) for i in range(100000)]\n",
        "array_data = np.array(list_data)"
      ],
      "execution_count": 74,
      "outputs": [
        {
          "output_type": "stream",
          "text": [
            "[0.0000e+00 1.0000e+00 2.0000e+00 ... 9.9997e+04 9.9998e+04 9.9999e+04]\n"
          ],
          "name": "stdout"
        }
      ]
    },
    {
      "cell_type": "code",
      "metadata": {
        "id": "ytinw1ViZMgi",
        "colab_type": "code",
        "colab": {
          "base_uri": "https://localhost:8080/",
          "height": 69
        },
        "outputId": "524995d2-489e-4896-fc89-86a822773c77"
      },
      "source": [
        "%%time\n",
        "python_dot_product(list_data, list_data)"
      ],
      "execution_count": 71,
      "outputs": [
        {
          "output_type": "stream",
          "text": [
            "CPU times: user 12.2 ms, sys: 922 µs, total: 13.1 ms\n",
            "Wall time: 21.4 ms\n"
          ],
          "name": "stdout"
        },
        {
          "output_type": "execute_result",
          "data": {
            "text/plain": [
              "333328333350000.0"
            ]
          },
          "metadata": {
            "tags": []
          },
          "execution_count": 71
        }
      ]
    },
    {
      "cell_type": "code",
      "metadata": {
        "id": "chs5kR2vZMgk",
        "colab_type": "code",
        "colab": {
          "base_uri": "https://localhost:8080/",
          "height": 69
        },
        "outputId": "9012814c-19f4-4585-992d-0b521a38c423"
      },
      "source": [
        "%%time\n",
        "fortran_dot_product(array_data, array_data)"
      ],
      "execution_count": 72,
      "outputs": [
        {
          "output_type": "stream",
          "text": [
            "CPU times: user 245 µs, sys: 0 ns, total: 245 µs\n",
            "Wall time: 254 µs\n"
          ],
          "name": "stdout"
        },
        {
          "output_type": "execute_result",
          "data": {
            "text/plain": [
              "333328333350000.0"
            ]
          },
          "metadata": {
            "tags": []
          },
          "execution_count": 72
        }
      ]
    },
    {
      "cell_type": "markdown",
      "metadata": {
        "id": "jGDMdxaVZMgn",
        "colab_type": "text"
      },
      "source": [
        "<center><img src=\"images/sloth.gif\" alt=\"Drawing\" style=\"width: 1080px;\"/></center>\n"
      ]
    },
    {
      "cell_type": "markdown",
      "metadata": {
        "id": "rSLUVPr7ZMgn",
        "colab_type": "text"
      },
      "source": [
        "## Why is the Python Version so Much Slower?"
      ]
    },
    {
      "cell_type": "code",
      "metadata": {
        "id": "IX_3AYoYZMgo",
        "colab_type": "code",
        "colab": {
          "base_uri": "https://localhost:8080/",
          "height": 35
        },
        "outputId": "0f3c91ac-62a4-46f2-9688-ea297bb4d8d9"
      },
      "source": [
        "# Dynamic typing.\n",
        "def mul_elemwise(xs, ys):\n",
        "    return [x * y for x, y in zip(xs, ys)]\n",
        "\n",
        "mul_elemwise([1, 2, 3, 4], [1, 2 + 0j, 3.0, 'four'])\n",
        "#[type(x) for x in _]"
      ],
      "execution_count": 75,
      "outputs": [
        {
          "output_type": "execute_result",
          "data": {
            "text/plain": [
              "[1, (4+0j), 9.0, 'fourfourfourfour']"
            ]
          },
          "metadata": {
            "tags": []
          },
          "execution_count": 75
        }
      ]
    },
    {
      "cell_type": "code",
      "metadata": {
        "id": "QBBTiytlZMgq",
        "colab_type": "code",
        "colab": {
          "base_uri": "https://localhost:8080/",
          "height": 121
        },
        "outputId": "00675e23-0cbc-47d6-b123-f03616de826f"
      },
      "source": [
        "# Interpretation overhead.\n",
        "source_code = 'a + b * c'\n",
        "bytecode = compile(source_code, '', 'eval')\n",
        "import dis; dis.dis(bytecode)"
      ],
      "execution_count": 77,
      "outputs": [
        {
          "output_type": "stream",
          "text": [
            "  1           0 LOAD_NAME                0 (a)\n",
            "              2 LOAD_NAME                1 (b)\n",
            "              4 LOAD_NAME                2 (c)\n",
            "              6 BINARY_MULTIPLY\n",
            "              8 BINARY_ADD\n",
            "             10 RETURN_VALUE\n"
          ],
          "name": "stdout"
        }
      ]
    },
    {
      "cell_type": "markdown",
      "metadata": {
        "id": "Yt0bwUyWZMgv",
        "colab_type": "text"
      },
      "source": [
        "## Why is the Python Version so Slow?\n",
        "- Dynamic typing means that every single operation requires dispatching on the input type.\n",
        "- Having an interpreter means that every instruction is fetched and dispatched at runtime.\n",
        "- Other overheads:\n",
        "  - Arbitrary-size integers.\n",
        "  - Reference-counted garbage collection. OK"
      ]
    },
    {
      "cell_type": "markdown",
      "metadata": {
        "id": "E2sYJkUZZMgv",
        "colab_type": "text"
      },
      "source": [
        "> This is the paradox that we have to work with when we're doing scientific or numerically-intensive Python. What makes Python fast for development -- this high-level, interpreted, and dynamically-typed aspect of the language -- is exactly what makes it slow for code execution.\n",
        "\n",
        "- Jake VanderPlas, [*Losing Your Loops: Fast Numerical Computing with NumPy*](https://www.youtube.com/watch?v=EEUXKG97YRw)"
      ]
    },
    {
      "cell_type": "markdown",
      "metadata": {
        "id": "SvTHFWOaZMgv",
        "colab_type": "text"
      },
      "source": [
        "# What Do We Do?"
      ]
    },
    {
      "cell_type": "markdown",
      "metadata": {
        "id": "6ybN15XSZMgx",
        "colab_type": "text"
      },
      "source": [
        "<center><img src=\"images/runaway.gif\" alt=\"Drawing\" style=\"width: 50%;\"/></center>"
      ]
    },
    {
      "cell_type": "markdown",
      "metadata": {
        "id": "8AOrwTaTZMgy",
        "colab_type": "text"
      },
      "source": [
        "<center><img src=\"images/thisisfine.gif\" alt=\"Drawing\" style=\"width: 1080px;\"/></center>"
      ]
    },
    {
      "cell_type": "markdown",
      "metadata": {
        "id": "RPEfhJnDZMgz",
        "colab_type": "text"
      },
      "source": [
        "- Python is slow for numerical computation because it performs dynamic dispatch on every operation we perform..."
      ]
    },
    {
      "cell_type": "markdown",
      "metadata": {
        "collapsed": true,
        "id": "T4axt930ZMg0",
        "colab_type": "text"
      },
      "source": [
        "- ...but often, we just want to do the same thing over and over in a loop!"
      ]
    },
    {
      "cell_type": "markdown",
      "metadata": {
        "id": "FvgC9cXQZMg0",
        "colab_type": "text"
      },
      "source": [
        "- If we don't need Python's dynamicism, we don't want to pay (much) for it."
      ]
    },
    {
      "cell_type": "markdown",
      "metadata": {
        "id": "SnrAbeazZMg1",
        "colab_type": "text"
      },
      "source": [
        "- **Idea:** Dispatch **once per operation** instead of **once per element**."
      ]
    },
    {
      "cell_type": "code",
      "metadata": {
        "id": "zg8hSM_NZMg2",
        "colab_type": "code",
        "colab": {
          "base_uri": "https://localhost:8080/",
          "height": 35
        },
        "outputId": "6cba2df6-59c5-4a4e-edc2-c5c9c62ddff4"
      },
      "source": [
        "import numpy as np\n",
        "\n",
        "data = np.array([1, 2, 3, 4])\n",
        "data"
      ],
      "execution_count": 78,
      "outputs": [
        {
          "output_type": "execute_result",
          "data": {
            "text/plain": [
              "array([1, 2, 3, 4])"
            ]
          },
          "metadata": {
            "tags": []
          },
          "execution_count": 78
        }
      ]
    },
    {
      "cell_type": "code",
      "metadata": {
        "id": "5G0YeZK6ZMg5",
        "colab_type": "code",
        "colab": {
          "base_uri": "https://localhost:8080/",
          "height": 35
        },
        "outputId": "380cb5c0-0d1c-4c3a-83c8-6ba51f8a4891"
      },
      "source": [
        "data + data"
      ],
      "execution_count": 79,
      "outputs": [
        {
          "output_type": "execute_result",
          "data": {
            "text/plain": [
              "array([2, 4, 6, 8])"
            ]
          },
          "metadata": {
            "tags": []
          },
          "execution_count": 79
        }
      ]
    },
    {
      "cell_type": "code",
      "metadata": {
        "id": "AwH1-N75ZMg-",
        "colab_type": "code",
        "colab": {
          "base_uri": "https://localhost:8080/",
          "height": 69
        },
        "outputId": "f1566e86-a8aa-402f-8652-0077cde3e362"
      },
      "source": [
        "%%time\n",
        "# Naive dot product\n",
        "(array_data * array_data).sum()"
      ],
      "execution_count": 80,
      "outputs": [
        {
          "output_type": "stream",
          "text": [
            "CPU times: user 1.4 ms, sys: 24 µs, total: 1.42 ms\n",
            "Wall time: 929 µs\n"
          ],
          "name": "stdout"
        },
        {
          "output_type": "execute_result",
          "data": {
            "text/plain": [
              "333328333350000.0"
            ]
          },
          "metadata": {
            "tags": []
          },
          "execution_count": 80
        }
      ]
    },
    {
      "cell_type": "code",
      "metadata": {
        "id": "azJHiVfrZMhB",
        "colab_type": "code",
        "colab": {
          "base_uri": "https://localhost:8080/",
          "height": 69
        },
        "outputId": "00b0c22b-3555-4a31-ca64-d4f221f54008"
      },
      "source": [
        "%%time\n",
        "# Built-in dot product.\n",
        "array_data.dot(array_data)"
      ],
      "execution_count": 81,
      "outputs": [
        {
          "output_type": "stream",
          "text": [
            "CPU times: user 880 µs, sys: 3.05 ms, total: 3.93 ms\n",
            "Wall time: 3.65 ms\n"
          ],
          "name": "stdout"
        },
        {
          "output_type": "execute_result",
          "data": {
            "text/plain": [
              "333328333350000.0"
            ]
          },
          "metadata": {
            "tags": []
          },
          "execution_count": 81
        }
      ]
    },
    {
      "cell_type": "code",
      "metadata": {
        "id": "Wwx6JgvvZMhE",
        "colab_type": "code",
        "colab": {
          "base_uri": "https://localhost:8080/",
          "height": 69
        },
        "outputId": "f46bed40-9f5f-4268-f4d2-230109f28436"
      },
      "source": [
        "%%time\n",
        "fortran_dot_product(array_data, array_data)"
      ],
      "execution_count": 82,
      "outputs": [
        {
          "output_type": "stream",
          "text": [
            "CPU times: user 196 µs, sys: 14 µs, total: 210 µs\n",
            "Wall time: 215 µs\n"
          ],
          "name": "stdout"
        },
        {
          "output_type": "execute_result",
          "data": {
            "text/plain": [
              "333328333350000.0"
            ]
          },
          "metadata": {
            "tags": []
          },
          "execution_count": 82
        }
      ]
    },
    {
      "cell_type": "code",
      "metadata": {
        "id": "FtE3aqNNZMhG",
        "colab_type": "code",
        "colab": {
          "base_uri": "https://localhost:8080/",
          "height": 201
        },
        "outputId": "dad9e795-3350-4a95-9c70-a450d8edea79"
      },
      "source": [
        "# Numpy won't allow us to write a string into an int array.\n",
        "data[0] = \"foo\"\n",
        "data[1] = \"Fue\""
      ],
      "execution_count": 84,
      "outputs": [
        {
          "output_type": "error",
          "ename": "ValueError",
          "evalue": "ignored",
          "traceback": [
            "\u001b[0;31m---------------------------------------------------------------------------\u001b[0m",
            "\u001b[0;31mValueError\u001b[0m                                Traceback (most recent call last)",
            "\u001b[0;32m<ipython-input-84-88038f406a32>\u001b[0m in \u001b[0;36m<module>\u001b[0;34m()\u001b[0m\n\u001b[1;32m      1\u001b[0m \u001b[0;31m# Numpy won't allow us to write a string into an int array.\u001b[0m\u001b[0;34m\u001b[0m\u001b[0;34m\u001b[0m\u001b[0;34m\u001b[0m\u001b[0m\n\u001b[0;32m----> 2\u001b[0;31m \u001b[0mdata\u001b[0m\u001b[0;34m[\u001b[0m\u001b[0;36m0\u001b[0m\u001b[0;34m]\u001b[0m \u001b[0;34m=\u001b[0m \u001b[0;34m\"foo\"\u001b[0m\u001b[0;34m\u001b[0m\u001b[0;34m\u001b[0m\u001b[0m\n\u001b[0m\u001b[1;32m      3\u001b[0m \u001b[0mdata\u001b[0m\u001b[0;34m[\u001b[0m\u001b[0;36m1\u001b[0m\u001b[0;34m]\u001b[0m \u001b[0;34m=\u001b[0m \u001b[0;34m\"Fue\"\u001b[0m\u001b[0;34m\u001b[0m\u001b[0;34m\u001b[0m\u001b[0m\n",
            "\u001b[0;31mValueError\u001b[0m: invalid literal for int() with base 10: 'foo'"
          ]
        }
      ]
    },
    {
      "cell_type": "code",
      "metadata": {
        "id": "9pxPup-bZMhI",
        "colab_type": "code",
        "colab": {
          "base_uri": "https://localhost:8080/",
          "height": 183
        },
        "outputId": "3c0f317b-f565-4d6e-bdda-640518b5a8b3"
      },
      "source": [
        "# We also can't grow an array once it's created.\n",
        "data.append(3)"
      ],
      "execution_count": 85,
      "outputs": [
        {
          "output_type": "error",
          "ename": "AttributeError",
          "evalue": "ignored",
          "traceback": [
            "\u001b[0;31m---------------------------------------------------------------------------\u001b[0m",
            "\u001b[0;31mAttributeError\u001b[0m                            Traceback (most recent call last)",
            "\u001b[0;32m<ipython-input-85-8cdaf5ab44b5>\u001b[0m in \u001b[0;36m<module>\u001b[0;34m()\u001b[0m\n\u001b[1;32m      1\u001b[0m \u001b[0;31m# We also can't grow an array once it's created.\u001b[0m\u001b[0;34m\u001b[0m\u001b[0;34m\u001b[0m\u001b[0;34m\u001b[0m\u001b[0m\n\u001b[0;32m----> 2\u001b[0;31m \u001b[0mdata\u001b[0m\u001b[0;34m.\u001b[0m\u001b[0mappend\u001b[0m\u001b[0;34m(\u001b[0m\u001b[0;36m3\u001b[0m\u001b[0;34m)\u001b[0m\u001b[0;34m\u001b[0m\u001b[0;34m\u001b[0m\u001b[0m\n\u001b[0m",
            "\u001b[0;31mAttributeError\u001b[0m: 'numpy.ndarray' object has no attribute 'append'"
          ]
        }
      ]
    },
    {
      "cell_type": "code",
      "metadata": {
        "id": "HFRsGUVfZMhK",
        "colab_type": "code",
        "colab": {
          "base_uri": "https://localhost:8080/",
          "height": 52
        },
        "outputId": "4fa19e9a-4c0e-422e-b743-7c4bbfdd8b14"
      },
      "source": [
        "# We **can** reshape an array though.\n",
        "two_by_two = data.reshape(2, 2)\n",
        "two_by_two\n"
      ],
      "execution_count": 92,
      "outputs": [
        {
          "output_type": "execute_result",
          "data": {
            "text/plain": [
              "array([[1, 2],\n",
              "       [3, 4]])"
            ]
          },
          "metadata": {
            "tags": []
          },
          "execution_count": 92
        }
      ]
    },
    {
      "cell_type": "markdown",
      "metadata": {
        "id": "yG1_2FMfZMhO",
        "colab_type": "text"
      },
      "source": [
        "Numpy arrays are:\n",
        "\n",
        "- Fixed-type OK"
      ]
    },
    {
      "cell_type": "markdown",
      "metadata": {
        "id": "1-kl8jJiZMhP",
        "colab_type": "text"
      },
      "source": [
        "- Size-immutable OK"
      ]
    },
    {
      "cell_type": "markdown",
      "metadata": {
        "id": "8Q_NsaDjZMhQ",
        "colab_type": "text"
      },
      "source": [
        "- Multi-dimensional OK"
      ]
    },
    {
      "cell_type": "markdown",
      "metadata": {
        "id": "5dZaEgpRZMhR",
        "colab_type": "text"
      },
      "source": [
        "- Fast\\* OK"
      ]
    },
    {
      "cell_type": "markdown",
      "metadata": {
        "id": "9apAuYB_ZMhR",
        "colab_type": "text"
      },
      "source": [
        "\\* If you use them correctly. OK"
      ]
    },
    {
      "cell_type": "markdown",
      "metadata": {
        "id": "HMObw_fQZMhS",
        "colab_type": "text"
      },
      "source": [
        "# What's in an Array? OK"
      ]
    },
    {
      "cell_type": "code",
      "metadata": {
        "id": "D038Fda9ZMhT",
        "colab_type": "code",
        "colab": {
          "base_uri": "https://localhost:8080/",
          "height": 156
        },
        "outputId": "41c7858e-06a4-4d0c-859e-f1c842ffff80"
      },
      "source": [
        "arr = np.array([1, 2, 3, 4, 5, 6], dtype='int16').reshape(2, 3)\n",
        "print(\"Array:\\n\", arr, sep='')\n",
        "print(\"===========\")\n",
        "print(\"DType:\", arr.dtype)\n",
        "print(\"Shape:\", arr.shape)\n",
        "print(\"Strides:\", arr.strides)\n",
        "print(\"Data:\", arr.data.tobytes())"
      ],
      "execution_count": 93,
      "outputs": [
        {
          "output_type": "stream",
          "text": [
            "Array:\n",
            "[[1 2 3]\n",
            " [4 5 6]]\n",
            "===========\n",
            "DType: int16\n",
            "Shape: (2, 3)\n",
            "Strides: (6, 2)\n",
            "Data: b'\\x01\\x00\\x02\\x00\\x03\\x00\\x04\\x00\\x05\\x00\\x06\\x00'\n"
          ],
          "name": "stdout"
        }
      ]
    },
    {
      "cell_type": "markdown",
      "metadata": {
        "id": "2A2iesz4ZMhX",
        "colab_type": "text"
      },
      "source": [
        "# Core Operations\n",
        "\n",
        "- Vectorized **ufuncs** for elementwise operations.\n",
        "- Fancy indexing and masking for selection and filtering.\n",
        "- Aggregations across axes.\n",
        "- Broadcasting\n",
        "OK"
      ]
    },
    {
      "cell_type": "markdown",
      "metadata": {
        "id": "pt9L5WDXZMhY",
        "colab_type": "text"
      },
      "source": [
        "# UFuncs\n",
        "\n",
        "UFuncs (universal functions) are functions that operate elementwise on one or more arrays. OK\n"
      ]
    },
    {
      "cell_type": "code",
      "metadata": {
        "id": "Awby2jU3ZMhY",
        "colab_type": "code",
        "colab": {
          "base_uri": "https://localhost:8080/",
          "height": 87
        },
        "outputId": "30e24e44-f21f-4539-8571-9ca314c4a4ed"
      },
      "source": [
        "data = np.arange(15).reshape(3, 5)\n",
        "data\n",
        "data2 = np.arange(16).reshape(4, 4)\n",
        "data2"
      ],
      "execution_count": 96,
      "outputs": [
        {
          "output_type": "execute_result",
          "data": {
            "text/plain": [
              "array([[ 0,  1,  2,  3],\n",
              "       [ 4,  5,  6,  7],\n",
              "       [ 8,  9, 10, 11],\n",
              "       [12, 13, 14, 15]])"
            ]
          },
          "metadata": {
            "tags": []
          },
          "execution_count": 96
        }
      ]
    },
    {
      "cell_type": "code",
      "metadata": {
        "id": "mxIuOIxpZMhf",
        "colab_type": "code",
        "colab": {
          "base_uri": "https://localhost:8080/",
          "height": 87
        },
        "outputId": "e02c5479-91dd-4ea9-b0eb-98029acb3d23"
      },
      "source": [
        "# Binary operators.\n",
        "data * data\n",
        "data2 * data2"
      ],
      "execution_count": 99,
      "outputs": [
        {
          "output_type": "execute_result",
          "data": {
            "text/plain": [
              "array([[  0,   1,   4,   9],\n",
              "       [ 16,  25,  36,  49],\n",
              "       [ 64,  81, 100, 121],\n",
              "       [144, 169, 196, 225]])"
            ]
          },
          "metadata": {
            "tags": []
          },
          "execution_count": 99
        }
      ]
    },
    {
      "cell_type": "code",
      "metadata": {
        "id": "XBC_TAexZMhj",
        "colab_type": "code",
        "colab": {
          "base_uri": "https://localhost:8080/",
          "height": 87
        },
        "outputId": "ebba5706-659e-4a35-8685-f375dbf22286"
      },
      "source": [
        "# Unary functions.\n",
        "np.sqrt(data)\n",
        "np.sqrt(data2)"
      ],
      "execution_count": 101,
      "outputs": [
        {
          "output_type": "execute_result",
          "data": {
            "text/plain": [
              "array([[0.        , 1.        , 1.41421356, 1.73205081],\n",
              "       [2.        , 2.23606798, 2.44948974, 2.64575131],\n",
              "       [2.82842712, 3.        , 3.16227766, 3.31662479],\n",
              "       [3.46410162, 3.60555128, 3.74165739, 3.87298335]])"
            ]
          },
          "metadata": {
            "tags": []
          },
          "execution_count": 101
        }
      ]
    },
    {
      "cell_type": "code",
      "metadata": {
        "id": "XPgr37NAZMhm",
        "colab_type": "code",
        "colab": {
          "base_uri": "https://localhost:8080/",
          "height": 87
        },
        "outputId": "8f2af955-02c7-4a19-a8f7-e6a1beaabd8a"
      },
      "source": [
        "# Comparison operations\n",
        "(data % 3) == 0\n",
        "(data2 % 2) == 0"
      ],
      "execution_count": 102,
      "outputs": [
        {
          "output_type": "execute_result",
          "data": {
            "text/plain": [
              "array([[ True, False,  True, False],\n",
              "       [ True, False,  True, False],\n",
              "       [ True, False,  True, False],\n",
              "       [ True, False,  True, False]])"
            ]
          },
          "metadata": {
            "tags": []
          },
          "execution_count": 102
        }
      ]
    },
    {
      "cell_type": "code",
      "metadata": {
        "id": "U7hl48Q4ZMho",
        "colab_type": "code",
        "colab": {
          "base_uri": "https://localhost:8080/",
          "height": 87
        },
        "outputId": "4e64f2c3-73a1-4eb1-ea43-c11010ce1eea"
      },
      "source": [
        "# Boolean combinators.\n",
        "((data % 2) == 0) & ((data % 3) == 0)\n",
        "((data2 % 3) == 0) & ((data2 % 4) == 0)"
      ],
      "execution_count": 103,
      "outputs": [
        {
          "output_type": "execute_result",
          "data": {
            "text/plain": [
              "array([[ True, False, False, False],\n",
              "       [False, False, False, False],\n",
              "       [False, False, False, False],\n",
              "       [ True, False, False, False]])"
            ]
          },
          "metadata": {
            "tags": []
          },
          "execution_count": 103
        }
      ]
    },
    {
      "cell_type": "code",
      "metadata": {
        "id": "fq4g6UBUZMhq",
        "colab_type": "code",
        "colab": {
          "base_uri": "https://localhost:8080/",
          "height": 87
        },
        "outputId": "c491fa45-950e-4263-c158-ab4f158bb010"
      },
      "source": [
        "# as of python 3.5, @ is matrix-multiply\n",
        "data @ data.T\n",
        "data2 @ data2.T"
      ],
      "execution_count": 107,
      "outputs": [
        {
          "output_type": "execute_result",
          "data": {
            "text/plain": [
              "array([[ 14,  38,  62,  86],\n",
              "       [ 38, 126, 214, 302],\n",
              "       [ 62, 214, 366, 518],\n",
              "       [ 86, 302, 518, 734]])"
            ]
          },
          "metadata": {
            "tags": []
          },
          "execution_count": 107
        }
      ]
    },
    {
      "cell_type": "markdown",
      "metadata": {
        "id": "zKhOdCuOZMhv",
        "colab_type": "text"
      },
      "source": [
        "# UFuncs Review\n",
        "\n",
        "- UFuncs provide efficient elementwise operations applied across one or more arrays.\n",
        "- Arithmetic Operators (`+`, `*`, `/`)\n",
        "- Comparisons (`==`, `>`, `!=`)\n",
        "- Boolean Operators (`&`, `|`, `^`)\n",
        "- Trigonometric Functions (`sin`, `cos`)\n",
        "- Transcendental Functions (`exp`, `log`)\n",
        "OK"
      ]
    },
    {
      "cell_type": "markdown",
      "metadata": {
        "id": "VhQiTx4BZMhw",
        "colab_type": "text"
      },
      "source": [
        "# Selections"
      ]
    },
    {
      "cell_type": "markdown",
      "metadata": {
        "id": "QmSOlFVZZMhw",
        "colab_type": "text"
      },
      "source": [
        "We often want to perform an operation on just a subset of our data."
      ]
    },
    {
      "cell_type": "code",
      "metadata": {
        "id": "_Smw2E6bZMhx",
        "colab_type": "code",
        "colab": {
          "base_uri": "https://localhost:8080/",
          "height": 52
        },
        "outputId": "4120495a-63d7-4641-83cd-4cdbb0f9725c"
      },
      "source": [
        "sines = np.sin(np.linspace(0, 3.14, 10))\n",
        "cosines = np.cos(np.linspace(0, 3.14, 10))\n",
        "sines"
      ],
      "execution_count": 108,
      "outputs": [
        {
          "output_type": "execute_result",
          "data": {
            "text/plain": [
              "array([0.        , 0.34185385, 0.64251645, 0.86575984, 0.98468459,\n",
              "       0.98496101, 0.8665558 , 0.64373604, 0.34335012, 0.00159265])"
            ]
          },
          "metadata": {
            "tags": []
          },
          "execution_count": 108
        }
      ]
    },
    {
      "cell_type": "code",
      "metadata": {
        "id": "3UhpwRqiZMhz",
        "colab_type": "code",
        "colab": {
          "base_uri": "https://localhost:8080/",
          "height": 35
        },
        "outputId": "5fafebae-2972-4248-adc2-94fde28919fc"
      },
      "source": [
        "# Slicing works with the same semantics as Python lists.\n",
        "sines[0]\n",
        "sines[3:4]"
      ],
      "execution_count": 129,
      "outputs": [
        {
          "output_type": "execute_result",
          "data": {
            "text/plain": [
              "array([0.86575984])"
            ]
          },
          "metadata": {
            "tags": []
          },
          "execution_count": 129
        }
      ]
    },
    {
      "cell_type": "code",
      "metadata": {
        "id": "YXBdyrUyZMh1",
        "colab_type": "code",
        "colab": {
          "base_uri": "https://localhost:8080/",
          "height": 35
        },
        "outputId": "66136517-4c48-4823-aced-e8da81a71dd8"
      },
      "source": [
        "sines[:3]  # First three elements  \n",
        "sines[:4]"
      ],
      "execution_count": 133,
      "outputs": [
        {
          "output_type": "execute_result",
          "data": {
            "text/plain": [
              "array([0.        , 0.34185385, 0.64251645, 0.86575984])"
            ]
          },
          "metadata": {
            "tags": []
          },
          "execution_count": 133
        }
      ]
    },
    {
      "cell_type": "code",
      "metadata": {
        "id": "CbJmlSUgZMh6",
        "colab_type": "code",
        "colab": {
          "base_uri": "https://localhost:8080/",
          "height": 35
        },
        "outputId": "a50f62d2-54bd-4aaa-dbff-e2a75ffd08e9"
      },
      "source": [
        "sines[5:]  # Elements from 5 on.\n",
        "sines[6:]"
      ],
      "execution_count": 134,
      "outputs": [
        {
          "output_type": "execute_result",
          "data": {
            "text/plain": [
              "array([0.8665558 , 0.64373604, 0.34335012, 0.00159265])"
            ]
          },
          "metadata": {
            "tags": []
          },
          "execution_count": 134
        }
      ]
    },
    {
      "cell_type": "code",
      "metadata": {
        "id": "uHt1ptLDZMh_",
        "colab_type": "code",
        "colab": {
          "base_uri": "https://localhost:8080/",
          "height": 35
        },
        "outputId": "3b42c326-c5c2-4ceb-c766-d0178e8842a5"
      },
      "source": [
        "sines[::2]  # Every other element.\n",
        "sines[::3]"
      ],
      "execution_count": 135,
      "outputs": [
        {
          "output_type": "execute_result",
          "data": {
            "text/plain": [
              "array([0.        , 0.86575984, 0.8665558 , 0.00159265])"
            ]
          },
          "metadata": {
            "tags": []
          },
          "execution_count": 135
        }
      ]
    },
    {
      "cell_type": "code",
      "metadata": {
        "id": "oRY3IhTnZMiB",
        "colab_type": "code",
        "colab": {
          "base_uri": "https://localhost:8080/",
          "height": 243
        },
        "outputId": "6af5b18c-0766-4963-efa6-a8807583465a"
      },
      "source": [
        "# More interesting: we can index with boolean arrays to filter by a predicate.\n",
        "print(\"sines:\\n\", sines)\n",
        "print(\"sines > 0.5:\\n\", sines > 0.5)\n",
        "print(\"sines[sines > 0.5]:\\n\", sines[sines > 0.5])\n",
        "print(\"sines:\\n\", sines)\n",
        "print(\"sines < 05\", sines < 0.5)\n",
        "print(\"sines[sines < 0.5]:\\n\", sines[sines < 0.5])"
      ],
      "execution_count": 137,
      "outputs": [
        {
          "output_type": "stream",
          "text": [
            "sines:\n",
            " [0.         0.34185385 0.64251645 0.86575984 0.98468459 0.98496101\n",
            " 0.8665558  0.64373604 0.34335012 0.00159265]\n",
            "sines > 0.5:\n",
            " [False False  True  True  True  True  True  True False False]\n",
            "sines[sines > 0.5]:\n",
            " [0.64251645 0.86575984 0.98468459 0.98496101 0.8665558  0.64373604]\n",
            "sines:\n",
            " [0.         0.34185385 0.64251645 0.86575984 0.98468459 0.98496101\n",
            " 0.8665558  0.64373604 0.34335012 0.00159265]\n",
            "sines < 05 [ True  True False False False False False False  True  True]\n",
            "sines[sines < 0.5]:\n",
            " [0.         0.34185385 0.34335012 0.00159265]\n"
          ],
          "name": "stdout"
        }
      ]
    },
    {
      "cell_type": "code",
      "metadata": {
        "id": "35X7_kqhZMiD",
        "colab_type": "code",
        "colab": {
          "base_uri": "https://localhost:8080/",
          "height": 69
        },
        "outputId": "cac65be1-d912-4349-93eb-929fe27ad917"
      },
      "source": [
        "# We index with lists/arrays of integers to select values at those indices.\n",
        "print(sines)\n",
        "sines[[0, 4, 7]]\n",
        "sines[[0, 5, 9]]"
      ],
      "execution_count": 140,
      "outputs": [
        {
          "output_type": "stream",
          "text": [
            "[0.         0.34185385 0.64251645 0.86575984 0.98468459 0.98496101\n",
            " 0.8665558  0.64373604 0.34335012 0.00159265]\n"
          ],
          "name": "stdout"
        },
        {
          "output_type": "execute_result",
          "data": {
            "text/plain": [
              "array([0.        , 0.98496101, 0.00159265])"
            ]
          },
          "metadata": {
            "tags": []
          },
          "execution_count": 140
        }
      ]
    },
    {
      "cell_type": "code",
      "metadata": {
        "id": "cYyum9BZZMiF",
        "colab_type": "code",
        "colab": {}
      },
      "source": [
        "# Index arrays are often used for sorting one or more arrays.\n",
        "unsorted_data = np.array([1, 3, 2, 12, -1, 5, 2])\n",
        "unsorted_data2 = np.array([10, 30, 20, 120, -10, 50, 20])"
      ],
      "execution_count": 144,
      "outputs": []
    },
    {
      "cell_type": "code",
      "metadata": {
        "id": "nVRvgiorZMiH",
        "colab_type": "code",
        "colab": {
          "base_uri": "https://localhost:8080/",
          "height": 35
        },
        "outputId": "670b11a8-8caa-46a9-b620-97f2a2b87405"
      },
      "source": [
        "sort_indices = np.argsort(unsorted_data)\n",
        "sort_indices\n",
        "sort_indices2 = np.argsort(unsorted_data2)\n",
        "sort_indices2"
      ],
      "execution_count": 147,
      "outputs": [
        {
          "output_type": "execute_result",
          "data": {
            "text/plain": [
              "array([4, 0, 2, 6, 1, 5, 3])"
            ]
          },
          "metadata": {
            "tags": []
          },
          "execution_count": 147
        }
      ]
    },
    {
      "cell_type": "code",
      "metadata": {
        "id": "VKOxhJkAZMiJ",
        "colab_type": "code",
        "colab": {
          "base_uri": "https://localhost:8080/",
          "height": 35
        },
        "outputId": "a85452ed-a890-4910-d060-6624a89fda76"
      },
      "source": [
        "unsorted_data[sort_indices]\n",
        "unsorted_data2[sort_indices2]"
      ],
      "execution_count": 148,
      "outputs": [
        {
          "output_type": "execute_result",
          "data": {
            "text/plain": [
              "array([-10,  10,  20,  20,  30,  50, 120])"
            ]
          },
          "metadata": {
            "tags": []
          },
          "execution_count": 148
        }
      ]
    },
    {
      "cell_type": "code",
      "metadata": {
        "id": "GMcY-ycJZMiP",
        "colab_type": "code",
        "colab": {}
      },
      "source": [
        "market_caps = np.array([12, 6, 10, 5, 6])  # Presumably in dollars?\n",
        "assets = np.array(['A', 'B', 'C', 'D', 'E'])"
      ],
      "execution_count": 149,
      "outputs": []
    },
    {
      "cell_type": "code",
      "metadata": {
        "id": "3V1WeN2JZMiV",
        "colab_type": "code",
        "colab": {
          "base_uri": "https://localhost:8080/",
          "height": 35
        },
        "outputId": "151e8850-7d61-494e-c345-e12f2b74edc0"
      },
      "source": [
        "# Sort assets by market cap by using the permutation that would sort market caps on ``assets``.\n",
        "sort_by_mcap = np.argsort(market_caps)\n",
        "assets[sort_by_mcap]"
      ],
      "execution_count": 150,
      "outputs": [
        {
          "output_type": "execute_result",
          "data": {
            "text/plain": [
              "array(['D', 'B', 'E', 'C', 'A'], dtype='<U1')"
            ]
          },
          "metadata": {
            "tags": []
          },
          "execution_count": 150
        }
      ]
    },
    {
      "cell_type": "code",
      "metadata": {
        "scrolled": true,
        "id": "1GIuK-otZMiX",
        "colab_type": "code",
        "colab": {
          "base_uri": "https://localhost:8080/",
          "height": 208
        },
        "outputId": "9e52e2d3-b7cc-4360-fe30-9534031aefeb"
      },
      "source": [
        "# Indexers are also useful for aligning data.\n",
        "print(\"Dates:\\n\", repr(event_dates))\n",
        "print(\"Values:\\n\", repr(event_values))\n",
        "print(\"Calendar:\\n\", repr(calendar))"
      ],
      "execution_count": 151,
      "outputs": [
        {
          "output_type": "stream",
          "text": [
            "Dates:\n",
            " array(['2017-01-06', '2017-01-07', '2017-01-08'], dtype='datetime64[D]')\n",
            "Values:\n",
            " array([10, 15, 20])\n",
            "Calendar:\n",
            " array(['2017-01-03', '2017-01-04', '2017-01-05', '2017-01-06',\n",
            "       '2017-01-09', '2017-01-10', '2017-01-11', '2017-01-12',\n",
            "       '2017-01-13', '2017-01-17', '2017-01-18', '2017-01-19',\n",
            "       '2017-01-20', '2017-01-23', '2017-01-24', '2017-01-25',\n",
            "       '2017-01-26', '2017-01-27', '2017-01-30', '2017-01-31',\n",
            "       '2017-02-01'], dtype='datetime64[D]')\n"
          ],
          "name": "stdout"
        }
      ]
    },
    {
      "cell_type": "code",
      "metadata": {
        "id": "MGh3niWWZMic",
        "colab_type": "code",
        "colab": {
          "base_uri": "https://localhost:8080/",
          "height": 69
        },
        "outputId": "7d671c0b-ae62-4c61-8c25-11e372c7dfae"
      },
      "source": [
        "print(\"Raw Dates:\", event_dates)\n",
        "print(\"Indices:\", calendar.searchsorted(event_dates))\n",
        "print(\"Forward-Filled Dates:\", calendar[calendar.searchsorted(event_dates)])"
      ],
      "execution_count": 152,
      "outputs": [
        {
          "output_type": "stream",
          "text": [
            "Raw Dates: ['2017-01-06' '2017-01-07' '2017-01-08']\n",
            "Indices: [3 4 4]\n",
            "Forward-Filled Dates: ['2017-01-06' '2017-01-09' '2017-01-09']\n"
          ],
          "name": "stdout"
        }
      ]
    },
    {
      "cell_type": "markdown",
      "metadata": {
        "id": "692yyNwkZMif",
        "colab_type": "text"
      },
      "source": [
        "On multi-dimensional arrays, we can slice along each axis independently."
      ]
    },
    {
      "cell_type": "code",
      "metadata": {
        "id": "497k8V7_ZMif",
        "colab_type": "code",
        "colab": {
          "base_uri": "https://localhost:8080/",
          "height": 104
        },
        "outputId": "f450b3b4-9916-459c-e613-3f34684692d5"
      },
      "source": [
        "data = np.arange(25).reshape(5, 5)\n",
        "data"
      ],
      "execution_count": 153,
      "outputs": [
        {
          "output_type": "execute_result",
          "data": {
            "text/plain": [
              "array([[ 0,  1,  2,  3,  4],\n",
              "       [ 5,  6,  7,  8,  9],\n",
              "       [10, 11, 12, 13, 14],\n",
              "       [15, 16, 17, 18, 19],\n",
              "       [20, 21, 22, 23, 24]])"
            ]
          },
          "metadata": {
            "tags": []
          },
          "execution_count": 153
        }
      ]
    },
    {
      "cell_type": "code",
      "metadata": {
        "id": "CjcO-mBPZMii",
        "colab_type": "code",
        "colab": {
          "base_uri": "https://localhost:8080/",
          "height": 69
        },
        "outputId": "6a74434a-2392-4505-c90d-1907d6a12849"
      },
      "source": [
        "data[:2, :2]  # First two rows and first two columns.\n",
        "data[:3, 1:4]"
      ],
      "execution_count": 154,
      "outputs": [
        {
          "output_type": "execute_result",
          "data": {
            "text/plain": [
              "array([[ 1,  2,  3],\n",
              "       [ 6,  7,  8],\n",
              "       [11, 12, 13]])"
            ]
          },
          "metadata": {
            "tags": []
          },
          "execution_count": 154
        }
      ]
    },
    {
      "cell_type": "code",
      "metadata": {
        "id": "-844yAEFZMik",
        "colab_type": "code",
        "colab": {
          "base_uri": "https://localhost:8080/",
          "height": 52
        },
        "outputId": "8f0fd4f9-95d9-49c9-9437-d8d1e486762b"
      },
      "source": [
        "data[:2, [0, -1]]  # First two rows, first and last columns."
      ],
      "execution_count": 155,
      "outputs": [
        {
          "output_type": "execute_result",
          "data": {
            "text/plain": [
              "array([[0, 4],\n",
              "       [5, 9]])"
            ]
          },
          "metadata": {
            "tags": []
          },
          "execution_count": 155
        }
      ]
    },
    {
      "cell_type": "code",
      "metadata": {
        "id": "TYme-cD6ZMil",
        "colab_type": "code",
        "colab": {
          "base_uri": "https://localhost:8080/",
          "height": 69
        },
        "outputId": "fd23c39d-1a05-4dff-9186-5550b99a1386"
      },
      "source": [
        "data[(data[:, 0] % 2) == 0]  # Rows where the first column is divisible by two."
      ],
      "execution_count": 156,
      "outputs": [
        {
          "output_type": "execute_result",
          "data": {
            "text/plain": [
              "array([[ 0,  1,  2,  3,  4],\n",
              "       [10, 11, 12, 13, 14],\n",
              "       [20, 21, 22, 23, 24]])"
            ]
          },
          "metadata": {
            "tags": []
          },
          "execution_count": 156
        }
      ]
    },
    {
      "cell_type": "markdown",
      "metadata": {
        "id": "2g8JQ_FyZMin",
        "colab_type": "text"
      },
      "source": [
        "# Selections Review\n",
        "\n",
        "- Indexing with an integer removes a dimension.\n",
        "- Slicing operations work on Numpy arrays the same way they do on lists.\n",
        "- Indexing with a boolean array filters to True locations.\n",
        "- Indexing with an integer array selects indices along an axis.\n",
        "- Multidimensional arrays can apply selections independently along different axes. OK"
      ]
    },
    {
      "cell_type": "markdown",
      "metadata": {
        "id": "5Q2MjqTaZMio",
        "colab_type": "text"
      },
      "source": [
        "## Reductions\n",
        "\n",
        "Functions that reduce an array to a scalar. OK"
      ]
    },
    {
      "cell_type": "markdown",
      "metadata": {
        "id": "4cGLCEk1ZMip",
        "colab_type": "text"
      },
      "source": [
        "$Var(X) = \\frac{1}{N}\\sqrt{\\sum_{i=1}^N (x_i - \\bar{x})^2}$"
      ]
    },
    {
      "cell_type": "code",
      "metadata": {
        "id": "5vOOJ1_JZMiq",
        "colab_type": "code",
        "colab": {}
      },
      "source": [
        "def variance(x):\n",
        "    return ((x - x.mean()) ** 2).sum() / len(x)"
      ],
      "execution_count": 157,
      "outputs": []
    },
    {
      "cell_type": "code",
      "metadata": {
        "id": "g92A4t_BZMis",
        "colab_type": "code",
        "colab": {
          "base_uri": "https://localhost:8080/",
          "height": 35
        },
        "outputId": "5cf31fbf-79f4-45da-b1b4-67c586febba1"
      },
      "source": [
        "variance(np.random.standard_normal(1000))"
      ],
      "execution_count": 158,
      "outputs": [
        {
          "output_type": "execute_result",
          "data": {
            "text/plain": [
              "0.9923278533945313"
            ]
          },
          "metadata": {
            "tags": []
          },
          "execution_count": 158
        }
      ]
    },
    {
      "cell_type": "markdown",
      "metadata": {
        "id": "3-M7iqzHZMiy",
        "colab_type": "text"
      },
      "source": [
        "- `sum()` and `mean()` are both **reductions**."
      ]
    },
    {
      "cell_type": "markdown",
      "metadata": {
        "id": "BCfMbpv2ZMiy",
        "colab_type": "text"
      },
      "source": [
        "- In the simplest case, we use these to reduce an entire array into a single value... OK"
      ]
    },
    {
      "cell_type": "code",
      "metadata": {
        "id": "UfzoDJwMZMiz",
        "colab_type": "code",
        "colab": {
          "base_uri": "https://localhost:8080/",
          "height": 35
        },
        "outputId": "cf950a2c-d4f7-4fae-8ab3-fce6d3b29b43"
      },
      "source": [
        "data = np.arange(30)\n",
        "data.mean()"
      ],
      "execution_count": 159,
      "outputs": [
        {
          "output_type": "execute_result",
          "data": {
            "text/plain": [
              "14.5"
            ]
          },
          "metadata": {
            "tags": []
          },
          "execution_count": 159
        }
      ]
    },
    {
      "cell_type": "markdown",
      "metadata": {
        "id": "1H9Wt9PAZMi2",
        "colab_type": "text"
      },
      "source": [
        "- ...but we can do more interesting things with multi-dimensional arrays. OK"
      ]
    },
    {
      "cell_type": "code",
      "metadata": {
        "id": "_Fn-yV0DZMi5",
        "colab_type": "code",
        "colab": {
          "base_uri": "https://localhost:8080/",
          "height": 69
        },
        "outputId": "7560ebc3-7058-44b6-c002-d93dd08cd2a6"
      },
      "source": [
        "data = np.arange(30).reshape(3, 10)\n",
        "data"
      ],
      "execution_count": 160,
      "outputs": [
        {
          "output_type": "execute_result",
          "data": {
            "text/plain": [
              "array([[ 0,  1,  2,  3,  4,  5,  6,  7,  8,  9],\n",
              "       [10, 11, 12, 13, 14, 15, 16, 17, 18, 19],\n",
              "       [20, 21, 22, 23, 24, 25, 26, 27, 28, 29]])"
            ]
          },
          "metadata": {
            "tags": []
          },
          "execution_count": 160
        }
      ]
    },
    {
      "cell_type": "code",
      "metadata": {
        "id": "vSoYPiOwZMi7",
        "colab_type": "code",
        "colab": {
          "base_uri": "https://localhost:8080/",
          "height": 35
        },
        "outputId": "865234e4-f68e-40dd-8a7d-9bf3494dce95"
      },
      "source": [
        "data.mean()"
      ],
      "execution_count": 161,
      "outputs": [
        {
          "output_type": "execute_result",
          "data": {
            "text/plain": [
              "14.5"
            ]
          },
          "metadata": {
            "tags": []
          },
          "execution_count": 161
        }
      ]
    },
    {
      "cell_type": "code",
      "metadata": {
        "id": "Xq41Rk6lZMi-",
        "colab_type": "code",
        "colab": {
          "base_uri": "https://localhost:8080/",
          "height": 35
        },
        "outputId": "e364b2c0-2ac7-4e7e-d132-43cbf107a335"
      },
      "source": [
        "data.mean(axis=0)"
      ],
      "execution_count": 162,
      "outputs": [
        {
          "output_type": "execute_result",
          "data": {
            "text/plain": [
              "array([10., 11., 12., 13., 14., 15., 16., 17., 18., 19.])"
            ]
          },
          "metadata": {
            "tags": []
          },
          "execution_count": 162
        }
      ]
    },
    {
      "cell_type": "code",
      "metadata": {
        "id": "wSTHW-9fZMjF",
        "colab_type": "code",
        "colab": {
          "base_uri": "https://localhost:8080/",
          "height": 35
        },
        "outputId": "32fc219d-7d49-4fe3-af68-066dac5bcda2"
      },
      "source": [
        "data.mean(axis=1)"
      ],
      "execution_count": 163,
      "outputs": [
        {
          "output_type": "execute_result",
          "data": {
            "text/plain": [
              "array([ 4.5, 14.5, 24.5])"
            ]
          },
          "metadata": {
            "tags": []
          },
          "execution_count": 163
        }
      ]
    },
    {
      "cell_type": "markdown",
      "metadata": {
        "id": "VXqkerf-ZMjI",
        "colab_type": "text"
      },
      "source": [
        "## Reductions Review\n",
        "\n",
        "- Reductions allow us to perform efficient aggregations over arrays.\n",
        "- We can do aggregations over a single axis to collapse a single dimension.\n",
        "- Many built-in reductions (`mean`, `sum`, `min`, `max`, `median`, ...). OK"
      ]
    },
    {
      "cell_type": "markdown",
      "metadata": {
        "id": "PKIKR7k7ZMjJ",
        "colab_type": "text"
      },
      "source": [
        "# Broadcasting OK\n"
      ]
    },
    {
      "cell_type": "code",
      "metadata": {
        "id": "w5fQpdXdZMjK",
        "colab_type": "code",
        "colab": {
          "base_uri": "https://localhost:8080/",
          "height": 121
        },
        "outputId": "1b02aba6-b32e-483a-d46d-6137e612be2a"
      },
      "source": [
        "row = np.array([1, 2, 3, 4])\n",
        "column = np.array([[1], [2], [3]])\n",
        "print(\"Row:\\n\", row, sep='')\n",
        "print(\"Column:\\n\", column, sep='')"
      ],
      "execution_count": 165,
      "outputs": [
        {
          "output_type": "stream",
          "text": [
            "Row:\n",
            "[1 2 3 4]\n",
            "Column:\n",
            "[[1]\n",
            " [2]\n",
            " [3]]\n"
          ],
          "name": "stdout"
        }
      ]
    },
    {
      "cell_type": "code",
      "metadata": {
        "id": "XPI5cKd6ZMjO",
        "colab_type": "code",
        "colab": {
          "base_uri": "https://localhost:8080/",
          "height": 69
        },
        "outputId": "36251066-21e2-47c4-9429-e1bc195ff3da"
      },
      "source": [
        "row + column"
      ],
      "execution_count": 166,
      "outputs": [
        {
          "output_type": "execute_result",
          "data": {
            "text/plain": [
              "array([[2, 3, 4, 5],\n",
              "       [3, 4, 5, 6],\n",
              "       [4, 5, 6, 7]])"
            ]
          },
          "metadata": {
            "tags": []
          },
          "execution_count": 166
        }
      ]
    },
    {
      "cell_type": "markdown",
      "metadata": {
        "id": "zOupP5Q9ZMjR",
        "colab_type": "text"
      },
      "source": [
        "<center><img src=\"images/broadcasting.png\" alt=\"Drawing\" style=\"width: 60%;\"/></center>\n",
        "\n",
        "<h5>Source: http://www.scipy-lectures.org/_images/numpy_broadcasting.png</h5> OK"
      ]
    },
    {
      "cell_type": "code",
      "metadata": {
        "id": "vHg7A9_5ZMjR",
        "colab_type": "code",
        "colab": {
          "base_uri": "https://localhost:8080/",
          "height": 191
        },
        "outputId": "94348cba-24b1-4fb3-ed5e-9fd99d324ed4"
      },
      "source": [
        "# Broadcasting is particularly useful in conjunction with reductions.\n",
        "print(\"Data:\\n\", data, sep='')\n",
        "print(\"Mean:\\n\", data.mean(axis=0), sep='')\n",
        "\n",
        "print(\"Data - Mean:\\n\", data - data.mean(axis=0), sep='') "
      ],
      "execution_count": 168,
      "outputs": [
        {
          "output_type": "stream",
          "text": [
            "Data:\n",
            "[[ 0  1  2  3  4  5  6  7  8  9]\n",
            " [10 11 12 13 14 15 16 17 18 19]\n",
            " [20 21 22 23 24 25 26 27 28 29]]\n",
            "Mean:\n",
            "[10. 11. 12. 13. 14. 15. 16. 17. 18. 19.]\n",
            "Data - Mean:\n",
            "[[-10. -10. -10. -10. -10. -10. -10. -10. -10. -10.]\n",
            " [  0.   0.   0.   0.   0.   0.   0.   0.   0.   0.]\n",
            " [ 10.  10.  10.  10.  10.  10.  10.  10.  10.  10.]]\n"
          ],
          "name": "stdout"
        }
      ]
    },
    {
      "cell_type": "markdown",
      "metadata": {
        "id": "_dGN0QjlZMjU",
        "colab_type": "text"
      },
      "source": [
        "# Broadcasting Review\n",
        "\n",
        "- Numpy operations can work on arrays of different dimensions as long as the arrays' shapes are still \"compatible\".\n",
        "- Broadcasting works by \"tiling\" the smaller array along the missing dimension.\n",
        "- The result of a broadcasted operation is always at least as large in each dimension as the largest array in that dimension. OK"
      ]
    },
    {
      "cell_type": "markdown",
      "metadata": {
        "id": "xMz1gbF0ZMjV",
        "colab_type": "text"
      },
      "source": [
        "# Numpy Review OK\n"
      ]
    },
    {
      "cell_type": "markdown",
      "metadata": {
        "id": "x4x4PdACZMjV",
        "colab_type": "text"
      },
      "source": [
        "- Numerical algorithms are slow in pure Python because the overhead dynamic dispatch dominates our runtime. OK\n"
      ]
    },
    {
      "cell_type": "markdown",
      "metadata": {
        "id": "8eztMAkjZMjW",
        "colab_type": "text"
      },
      "source": [
        "- Numpy solves this problem by:\n",
        "  1. Imposing additional restrictions on the contents of arrays.\n",
        "  2. Moving the inner loops of our algorithms into compiled C code. OK"
      ]
    },
    {
      "cell_type": "markdown",
      "metadata": {
        "id": "UlfUWrsZZMjY",
        "colab_type": "text"
      },
      "source": [
        "- Using Numpy effectively often requires reworking an algorithms to use vectorized operations instead of for-loops, but the resulting operations are usually simpler, clearer, and faster than the pure Python equivalent. OK"
      ]
    },
    {
      "cell_type": "markdown",
      "metadata": {
        "id": "8UlLQLdcZMjY",
        "colab_type": "text"
      },
      "source": [
        "<center><img src=\"images/unicorn.jpg\" alt=\"Drawing\" style=\"width: 75%;\"/></center>"
      ]
    },
    {
      "cell_type": "markdown",
      "metadata": {
        "id": "CMLGBehFZMjZ",
        "colab_type": "text"
      },
      "source": [
        "Numpy is great for many things, but... OK"
      ]
    },
    {
      "cell_type": "markdown",
      "metadata": {
        "id": "c9coH2jFZMjZ",
        "colab_type": "text"
      },
      "source": [
        "- Sometimes our data is equipped with a natural set of **labels**:\n",
        "  - Dates/Times\n",
        "  - Stock Tickers\n",
        "  - Field Names (e.g. Open/High/Low/Close) OK\n",
        "  "
      ]
    },
    {
      "cell_type": "markdown",
      "metadata": {
        "id": "Lg3jsyPFZMja",
        "colab_type": "text"
      },
      "source": [
        "- Sometimes we have **more than one type of data** that we want to keep grouped together.\n",
        "  - Tables with a mix of real-valued and categorical data. OK"
      ]
    },
    {
      "cell_type": "markdown",
      "metadata": {
        "id": "xfMGJA2uZMja",
        "colab_type": "text"
      },
      "source": [
        "- Sometimes we have **missing** data, which we need to ignore, fill, or otherwise work around. OK"
      ]
    },
    {
      "cell_type": "markdown",
      "metadata": {
        "id": "1rHhFr0dZMjd",
        "colab_type": "text"
      },
      "source": [
        "<center><img src=\"images/panda-wrangling.gif\" alt=\"Drawing\" style=\"width: 75%;\"/></center>"
      ]
    },
    {
      "cell_type": "markdown",
      "metadata": {
        "id": "OKDx2A6VZMje",
        "colab_type": "text"
      },
      "source": [
        "<center><img src=\"images/pandas_logo.png\" alt=\"Drawing\" style=\"width: 75%;\"/></center>\n"
      ]
    },
    {
      "cell_type": "markdown",
      "metadata": {
        "id": "AJDnE06vZMjf",
        "colab_type": "text"
      },
      "source": [
        "Pandas extends Numpy with more complex data structures:\n",
        "\n",
        "- `Series`: 1-dimensional, homogenously-typed, labelled array.\n",
        "- `DataFrame`: 2-dimensional, semi-homogenous, labelled table.\n",
        "OK"
      ]
    },
    {
      "cell_type": "markdown",
      "metadata": {
        "id": "Hi2gRU97ZMjg",
        "colab_type": "text"
      },
      "source": [
        "Pandas also provides many utilities for: \n",
        "- Input/Output\n",
        "- Data Cleaning\n",
        "- Rolling Algorithms\n",
        "- Plotting\n",
        "OK"
      ]
    },
    {
      "cell_type": "markdown",
      "metadata": {
        "id": "F-Ti2CXTZMjg",
        "colab_type": "text"
      },
      "source": [
        "# Selection in Pandas"
      ]
    },
    {
      "cell_type": "code",
      "metadata": {
        "id": "3AMkYX3VZMjh",
        "colab_type": "code",
        "colab": {
          "base_uri": "https://localhost:8080/",
          "height": 121
        },
        "outputId": "422dbdab-659c-409c-b393-eff742fde88f"
      },
      "source": [
        "s = pd.Series(index=['a', 'b', 'c', 'd', 'e'], data=[1, 2, 3, 4, 5])\n",
        "s"
      ],
      "execution_count": 169,
      "outputs": [
        {
          "output_type": "execute_result",
          "data": {
            "text/plain": [
              "a    1\n",
              "b    2\n",
              "c    3\n",
              "d    4\n",
              "e    5\n",
              "dtype: int64"
            ]
          },
          "metadata": {
            "tags": []
          },
          "execution_count": 169
        }
      ]
    },
    {
      "cell_type": "code",
      "metadata": {
        "id": "RKwGbWYAZMji",
        "colab_type": "code",
        "colab": {
          "base_uri": "https://localhost:8080/",
          "height": 52
        },
        "outputId": "8ee76437-b7e2-4360-a669-8c74dec3cf50"
      },
      "source": [
        "# There are two pieces to a Series: the index and the values.\n",
        "print(\"The index is:\", s.index)\n",
        "print(\"The values are:\", s.values)"
      ],
      "execution_count": 170,
      "outputs": [
        {
          "output_type": "stream",
          "text": [
            "The index is: Index(['a', 'b', 'c', 'd', 'e'], dtype='object')\n",
            "The values are: [1 2 3 4 5]\n"
          ],
          "name": "stdout"
        }
      ]
    },
    {
      "cell_type": "code",
      "metadata": {
        "id": "mhu50q-HZMjl",
        "colab_type": "code",
        "colab": {
          "base_uri": "https://localhost:8080/",
          "height": 35
        },
        "outputId": "a78ba88c-622c-4b5c-bb12-a0fe29a2ce2d"
      },
      "source": [
        "# We can look up values out of a Series by position...\n",
        "s.iloc[0]\n",
        "s.iloc[1]"
      ],
      "execution_count": 172,
      "outputs": [
        {
          "output_type": "execute_result",
          "data": {
            "text/plain": [
              "2"
            ]
          },
          "metadata": {
            "tags": []
          },
          "execution_count": 172
        }
      ]
    },
    {
      "cell_type": "code",
      "metadata": {
        "id": "mCuvuprXZMjn",
        "colab_type": "code",
        "colab": {
          "base_uri": "https://localhost:8080/",
          "height": 35
        },
        "outputId": "e00d2b03-c49a-49f3-94f1-5093dbf94fa8"
      },
      "source": [
        "# ... or by label.\n",
        "s.loc['a']\n",
        "s.loc['b']"
      ],
      "execution_count": 173,
      "outputs": [
        {
          "output_type": "execute_result",
          "data": {
            "text/plain": [
              "2"
            ]
          },
          "metadata": {
            "tags": []
          },
          "execution_count": 173
        }
      ]
    },
    {
      "cell_type": "code",
      "metadata": {
        "id": "AzQ-9NUlZMjo",
        "colab_type": "code",
        "colab": {
          "base_uri": "https://localhost:8080/",
          "height": 104
        },
        "outputId": "c0f4bd10-e57c-4fa2-f220-1343b0827a2b"
      },
      "source": [
        "# Slicing works as expected...\n",
        "s.iloc[:2]\n",
        "s.iloc[:-1]"
      ],
      "execution_count": 174,
      "outputs": [
        {
          "output_type": "execute_result",
          "data": {
            "text/plain": [
              "a    1\n",
              "b    2\n",
              "c    3\n",
              "d    4\n",
              "dtype: int64"
            ]
          },
          "metadata": {
            "tags": []
          },
          "execution_count": 174
        }
      ]
    },
    {
      "cell_type": "code",
      "metadata": {
        "id": "NqoEdrE9ZMjq",
        "colab_type": "code",
        "colab": {
          "base_uri": "https://localhost:8080/",
          "height": 104
        },
        "outputId": "e71faa75-695b-416c-ea42-a5ab38531cdb"
      },
      "source": [
        "# ...but it works with labels too!\n",
        "s.loc[:'c']\n",
        "#\"Inclusive!\"\n",
        "s.loc[:'d']"
      ],
      "execution_count": 175,
      "outputs": [
        {
          "output_type": "execute_result",
          "data": {
            "text/plain": [
              "a    1\n",
              "b    2\n",
              "c    3\n",
              "d    4\n",
              "dtype: int64"
            ]
          },
          "metadata": {
            "tags": []
          },
          "execution_count": 175
        }
      ]
    },
    {
      "cell_type": "code",
      "metadata": {
        "id": "fKEDPzrYZMjs",
        "colab_type": "code",
        "colab": {
          "base_uri": "https://localhost:8080/",
          "height": 69
        },
        "outputId": "90c5d04c-0668-4b4b-d9d5-8f2fcca0c7f7"
      },
      "source": [
        "# Fancy indexing works the same as in numpy.\n",
        "s.iloc[[0, -1]]\n",
        "s.iloc[[1,-2]]"
      ],
      "execution_count": 178,
      "outputs": [
        {
          "output_type": "execute_result",
          "data": {
            "text/plain": [
              "b    2\n",
              "d    4\n",
              "dtype: int64"
            ]
          },
          "metadata": {
            "tags": []
          },
          "execution_count": 178
        }
      ]
    },
    {
      "cell_type": "code",
      "metadata": {
        "id": "IyHR-SpDZMjt",
        "colab_type": "code",
        "colab": {
          "base_uri": "https://localhost:8080/",
          "height": 69
        },
        "outputId": "adbea588-2e03-433b-8d33-7e4ae574291d"
      },
      "source": [
        "# As does boolean masking.\n",
        "s.loc[s > 2]\n",
        "s.loc[s < 3]"
      ],
      "execution_count": 179,
      "outputs": [
        {
          "output_type": "execute_result",
          "data": {
            "text/plain": [
              "a    1\n",
              "b    2\n",
              "dtype: int64"
            ]
          },
          "metadata": {
            "tags": []
          },
          "execution_count": 179
        }
      ]
    },
    {
      "cell_type": "code",
      "metadata": {
        "id": "Ka4NkBS4ZMjv",
        "colab_type": "code",
        "colab": {
          "base_uri": "https://localhost:8080/",
          "height": 104
        },
        "outputId": "7d3ca1ad-fffd-4d18-8651-fdc1cb279f62"
      },
      "source": [
        "# Element-wise operations are aligned by index.\n",
        "other_s = pd.Series({'a': 10.0, 'c': 20.0, 'd': 30.0, 'z': 40.0})\n",
        "other_s"
      ],
      "execution_count": 184,
      "outputs": [
        {
          "output_type": "execute_result",
          "data": {
            "text/plain": [
              "a    10.0\n",
              "c    20.0\n",
              "d    30.0\n",
              "z    40.0\n",
              "dtype: float64"
            ]
          },
          "metadata": {
            "tags": []
          },
          "execution_count": 184
        }
      ]
    },
    {
      "cell_type": "code",
      "metadata": {
        "id": "pK4uA1SnZMjy",
        "colab_type": "code",
        "colab": {
          "base_uri": "https://localhost:8080/",
          "height": 139
        },
        "outputId": "ceb2b126-bbcb-4c0d-b481-56e974ed345d"
      },
      "source": [
        "s + other_s"
      ],
      "execution_count": 186,
      "outputs": [
        {
          "output_type": "execute_result",
          "data": {
            "text/plain": [
              "a    11.0\n",
              "b     NaN\n",
              "c    23.0\n",
              "d    34.0\n",
              "e     NaN\n",
              "z     NaN\n",
              "dtype: float64"
            ]
          },
          "metadata": {
            "tags": []
          },
          "execution_count": 186
        }
      ]
    },
    {
      "cell_type": "code",
      "metadata": {
        "id": "Be7-RoVKZMj0",
        "colab_type": "code",
        "colab": {
          "base_uri": "https://localhost:8080/",
          "height": 139
        },
        "outputId": "fecca2a1-2e8c-4ad9-e700-8f76ff13d044"
      },
      "source": [
        "# We can fill in missing values with fillna().\n",
        "(s + other_s).fillna(0.0)\n"
      ],
      "execution_count": 187,
      "outputs": [
        {
          "output_type": "execute_result",
          "data": {
            "text/plain": [
              "a    11.0\n",
              "b     0.0\n",
              "c    23.0\n",
              "d    34.0\n",
              "e     0.0\n",
              "z     0.0\n",
              "dtype: float64"
            ]
          },
          "metadata": {
            "tags": []
          },
          "execution_count": 187
        }
      ]
    },
    {
      "cell_type": "code",
      "metadata": {
        "id": "bf_xCKjpZMj2",
        "colab_type": "code",
        "colab": {
          "base_uri": "https://localhost:8080/",
          "height": 233
        },
        "outputId": "f148b173-1da2-4d42-92a0-03410a32615b"
      },
      "source": [
        "# Most real datasets are read in from an external file format.\n",
        "aapl = pd.read_csv('AAPL.csv', parse_dates=['Date'], index_col='Date')\n",
        "aapl.head()"
      ],
      "execution_count": 189,
      "outputs": [
        {
          "output_type": "execute_result",
          "data": {
            "text/html": [
              "<div>\n",
              "<style scoped>\n",
              "    .dataframe tbody tr th:only-of-type {\n",
              "        vertical-align: middle;\n",
              "    }\n",
              "\n",
              "    .dataframe tbody tr th {\n",
              "        vertical-align: top;\n",
              "    }\n",
              "\n",
              "    .dataframe thead th {\n",
              "        text-align: right;\n",
              "    }\n",
              "</style>\n",
              "<table border=\"1\" class=\"dataframe\">\n",
              "  <thead>\n",
              "    <tr style=\"text-align: right;\">\n",
              "      <th></th>\n",
              "      <th>Adj Close</th>\n",
              "      <th>Close</th>\n",
              "      <th>High</th>\n",
              "      <th>Low</th>\n",
              "      <th>Open</th>\n",
              "      <th>Volume</th>\n",
              "    </tr>\n",
              "    <tr>\n",
              "      <th>Date</th>\n",
              "      <th></th>\n",
              "      <th></th>\n",
              "      <th></th>\n",
              "      <th></th>\n",
              "      <th></th>\n",
              "      <th></th>\n",
              "    </tr>\n",
              "  </thead>\n",
              "  <tbody>\n",
              "    <tr>\n",
              "      <th>2010-01-04</th>\n",
              "      <td>27.613066</td>\n",
              "      <td>30.572857</td>\n",
              "      <td>30.642857</td>\n",
              "      <td>30.340000</td>\n",
              "      <td>30.490000</td>\n",
              "      <td>123432400.0</td>\n",
              "    </tr>\n",
              "    <tr>\n",
              "      <th>2010-01-05</th>\n",
              "      <td>27.660807</td>\n",
              "      <td>30.625713</td>\n",
              "      <td>30.798571</td>\n",
              "      <td>30.464285</td>\n",
              "      <td>30.657143</td>\n",
              "      <td>150476200.0</td>\n",
              "    </tr>\n",
              "    <tr>\n",
              "      <th>2010-01-06</th>\n",
              "      <td>27.220825</td>\n",
              "      <td>30.138571</td>\n",
              "      <td>30.747143</td>\n",
              "      <td>30.107143</td>\n",
              "      <td>30.625713</td>\n",
              "      <td>138040000.0</td>\n",
              "    </tr>\n",
              "    <tr>\n",
              "      <th>2010-01-07</th>\n",
              "      <td>27.170504</td>\n",
              "      <td>30.082857</td>\n",
              "      <td>30.285715</td>\n",
              "      <td>29.864286</td>\n",
              "      <td>30.250000</td>\n",
              "      <td>119282800.0</td>\n",
              "    </tr>\n",
              "    <tr>\n",
              "      <th>2010-01-08</th>\n",
              "      <td>27.351143</td>\n",
              "      <td>30.282858</td>\n",
              "      <td>30.285715</td>\n",
              "      <td>29.865715</td>\n",
              "      <td>30.042856</td>\n",
              "      <td>111902700.0</td>\n",
              "    </tr>\n",
              "  </tbody>\n",
              "</table>\n",
              "</div>"
            ],
            "text/plain": [
              "            Adj Close      Close       High        Low       Open       Volume\n",
              "Date                                                                          \n",
              "2010-01-04  27.613066  30.572857  30.642857  30.340000  30.490000  123432400.0\n",
              "2010-01-05  27.660807  30.625713  30.798571  30.464285  30.657143  150476200.0\n",
              "2010-01-06  27.220825  30.138571  30.747143  30.107143  30.625713  138040000.0\n",
              "2010-01-07  27.170504  30.082857  30.285715  29.864286  30.250000  119282800.0\n",
              "2010-01-08  27.351143  30.282858  30.285715  29.865715  30.042856  111902700.0"
            ]
          },
          "metadata": {
            "tags": []
          },
          "execution_count": 189
        }
      ]
    },
    {
      "cell_type": "code",
      "metadata": {
        "id": "e5pa6Us7ZMj3",
        "colab_type": "code",
        "colab": {
          "base_uri": "https://localhost:8080/",
          "height": 141
        },
        "outputId": "3bfc815e-dcd6-44d6-cc21-f50f4c7af002"
      },
      "source": [
        "# Slicing generalizes to two dimensions as you'd expect:\n",
        "aapl.iloc[:2, :2]"
      ],
      "execution_count": 190,
      "outputs": [
        {
          "output_type": "execute_result",
          "data": {
            "text/html": [
              "<div>\n",
              "<style scoped>\n",
              "    .dataframe tbody tr th:only-of-type {\n",
              "        vertical-align: middle;\n",
              "    }\n",
              "\n",
              "    .dataframe tbody tr th {\n",
              "        vertical-align: top;\n",
              "    }\n",
              "\n",
              "    .dataframe thead th {\n",
              "        text-align: right;\n",
              "    }\n",
              "</style>\n",
              "<table border=\"1\" class=\"dataframe\">\n",
              "  <thead>\n",
              "    <tr style=\"text-align: right;\">\n",
              "      <th></th>\n",
              "      <th>Adj Close</th>\n",
              "      <th>Close</th>\n",
              "    </tr>\n",
              "    <tr>\n",
              "      <th>Date</th>\n",
              "      <th></th>\n",
              "      <th></th>\n",
              "    </tr>\n",
              "  </thead>\n",
              "  <tbody>\n",
              "    <tr>\n",
              "      <th>2010-01-04</th>\n",
              "      <td>27.613066</td>\n",
              "      <td>30.572857</td>\n",
              "    </tr>\n",
              "    <tr>\n",
              "      <th>2010-01-05</th>\n",
              "      <td>27.660807</td>\n",
              "      <td>30.625713</td>\n",
              "    </tr>\n",
              "  </tbody>\n",
              "</table>\n",
              "</div>"
            ],
            "text/plain": [
              "            Adj Close      Close\n",
              "Date                            \n",
              "2010-01-04  27.613066  30.572857\n",
              "2010-01-05  27.660807  30.625713"
            ]
          },
          "metadata": {
            "tags": []
          },
          "execution_count": 190
        }
      ]
    },
    {
      "cell_type": "code",
      "metadata": {
        "id": "Sf_pQD67ZMj5",
        "colab_type": "code",
        "colab": {
          "base_uri": "https://localhost:8080/",
          "height": 202
        },
        "outputId": "99b39ae4-04e0-41bc-d2b8-8ffb19ba0405"
      },
      "source": [
        "aapl.loc[pd.Timestamp('2010-02-01'):pd.Timestamp('2010-02-04'), ['Close', 'Volume']]"
      ],
      "execution_count": 191,
      "outputs": [
        {
          "output_type": "execute_result",
          "data": {
            "text/html": [
              "<div>\n",
              "<style scoped>\n",
              "    .dataframe tbody tr th:only-of-type {\n",
              "        vertical-align: middle;\n",
              "    }\n",
              "\n",
              "    .dataframe tbody tr th {\n",
              "        vertical-align: top;\n",
              "    }\n",
              "\n",
              "    .dataframe thead th {\n",
              "        text-align: right;\n",
              "    }\n",
              "</style>\n",
              "<table border=\"1\" class=\"dataframe\">\n",
              "  <thead>\n",
              "    <tr style=\"text-align: right;\">\n",
              "      <th></th>\n",
              "      <th>Close</th>\n",
              "      <th>Volume</th>\n",
              "    </tr>\n",
              "    <tr>\n",
              "      <th>Date</th>\n",
              "      <th></th>\n",
              "      <th></th>\n",
              "    </tr>\n",
              "  </thead>\n",
              "  <tbody>\n",
              "    <tr>\n",
              "      <th>2010-02-01</th>\n",
              "      <td>27.818571</td>\n",
              "      <td>187469100.0</td>\n",
              "    </tr>\n",
              "    <tr>\n",
              "      <th>2010-02-02</th>\n",
              "      <td>27.980000</td>\n",
              "      <td>174585600.0</td>\n",
              "    </tr>\n",
              "    <tr>\n",
              "      <th>2010-02-03</th>\n",
              "      <td>28.461428</td>\n",
              "      <td>153832000.0</td>\n",
              "    </tr>\n",
              "    <tr>\n",
              "      <th>2010-02-04</th>\n",
              "      <td>27.435715</td>\n",
              "      <td>189413000.0</td>\n",
              "    </tr>\n",
              "  </tbody>\n",
              "</table>\n",
              "</div>"
            ],
            "text/plain": [
              "                Close       Volume\n",
              "Date                              \n",
              "2010-02-01  27.818571  187469100.0\n",
              "2010-02-02  27.980000  174585600.0\n",
              "2010-02-03  28.461428  153832000.0\n",
              "2010-02-04  27.435715  189413000.0"
            ]
          },
          "metadata": {
            "tags": []
          },
          "execution_count": 191
        }
      ]
    },
    {
      "cell_type": "markdown",
      "metadata": {
        "id": "SAqIut4kZMj8",
        "colab_type": "text"
      },
      "source": [
        "# Rolling Operations"
      ]
    },
    {
      "cell_type": "markdown",
      "metadata": {
        "id": "Ao8pNevOZMj8",
        "colab_type": "text"
      },
      "source": [
        "<center><img src=\"images/rolling.gif\" alt=\"Drawing\" style=\"width: 75%;\"/></center>"
      ]
    },
    {
      "cell_type": "code",
      "metadata": {
        "id": "e3m3n996ZMj8",
        "colab_type": "code",
        "colab": {
          "base_uri": "https://localhost:8080/",
          "height": 417
        },
        "outputId": "4e11ebd2-d057-47eb-8d8d-b17e9dbae12e"
      },
      "source": [
        "aapl.rolling(5)[['Close', 'Adj Close']].mean().plot();"
      ],
      "execution_count": 198,
      "outputs": [
        {
          "output_type": "display_data",
          "data": {
            "image/png": "[encoded data removed]",
            "text/plain": [
              "<Figure size 864x504 with 1 Axes>"
            ]
          },
          "metadata": {
            "tags": [],
            "needs_background": "light"
          }
        }
      ]
    },
    {
      "cell_type": "code",
      "metadata": {
        "id": "MMrxxAiNZMkA",
        "colab_type": "code",
        "colab": {
          "base_uri": "https://localhost:8080/",
          "height": 442
        },
        "outputId": "80272a04-9e13-47ec-f7bc-39a94a10e117"
      },
      "source": [
        "# Drop `Volume`, since it's way bigger than everything else.\n",
        "aapl.drop('Volume', axis=1).resample('2W').max().plot();"
      ],
      "execution_count": 196,
      "outputs": [
        {
          "output_type": "display_data",
          "data": {
            "image/png": "[encoded data removed]",
            "text/plain": [
              "<Figure size 864x504 with 1 Axes>"
            ]
          },
          "metadata": {
            "tags": [],
            "needs_background": "light"
          }
        }
      ]
    },
    {
      "cell_type": "code",
      "metadata": {
        "id": "FLNVAJnBZMkD",
        "colab_type": "code",
        "colab": {
          "base_uri": "https://localhost:8080/",
          "height": 416
        },
        "outputId": "2ca06bef-ef39-4c03-fc0a-0bd79e1f1b48"
      },
      "source": [
        "# 30-day rolling exponentially-weighted stddev of returns.\n",
        "aapl['Close'].pct_change().ewm(span=30).std().plot();"
      ],
      "execution_count": 197,
      "outputs": [
        {
          "output_type": "display_data",
          "data": {
            "image/png": "[encoded data removed]",
            "text/plain": [
              "<Figure size 864x504 with 1 Axes>"
            ]
          },
          "metadata": {
            "tags": [],
            "needs_background": "light"
          }
        }
      ]
    },
    {
      "cell_type": "markdown",
      "metadata": {
        "id": "1LmlhvXlZMkJ",
        "colab_type": "text"
      },
      "source": [
        "# \"Real World\" Data"
      ]
    },
    {
      "cell_type": "code",
      "metadata": {
        "id": "r-WQ5jpLZMkK",
        "colab_type": "code",
        "colab": {
          "base_uri": "https://localhost:8080/",
          "height": 306
        },
        "outputId": "c4fc9117-aac0-4e12-a660-b6176b8efe15"
      },
      "source": [
        "from demos.avocados import read_avocadata\n",
        "\n",
        "avocados = read_avocadata('2014', '2016')\n",
        "avocados.head()"
      ],
      "execution_count": 201,
      "outputs": [
        {
          "output_type": "execute_result",
          "data": {
            "text/html": [
              "<div>\n",
              "<style scoped>\n",
              "    .dataframe tbody tr th:only-of-type {\n",
              "        vertical-align: middle;\n",
              "    }\n",
              "\n",
              "    .dataframe tbody tr th {\n",
              "        vertical-align: top;\n",
              "    }\n",
              "\n",
              "    .dataframe thead th {\n",
              "        text-align: right;\n",
              "    }\n",
              "</style>\n",
              "<table border=\"1\" class=\"dataframe\">\n",
              "  <thead>\n",
              "    <tr style=\"text-align: right;\">\n",
              "      <th></th>\n",
              "      <th>Date</th>\n",
              "      <th>Region</th>\n",
              "      <th>Variety</th>\n",
              "      <th>Organic</th>\n",
              "      <th>Number of Stores</th>\n",
              "      <th>Weighted Avg Price</th>\n",
              "      <th>Low Price</th>\n",
              "      <th>High Price</th>\n",
              "    </tr>\n",
              "  </thead>\n",
              "  <tbody>\n",
              "    <tr>\n",
              "      <th>0</th>\n",
              "      <td>2014-01-03 00:00:00+00:00</td>\n",
              "      <td>NATIONAL</td>\n",
              "      <td>HASS</td>\n",
              "      <td>False</td>\n",
              "      <td>9184</td>\n",
              "      <td>0.93</td>\n",
              "      <td>NaN</td>\n",
              "      <td>NaN</td>\n",
              "    </tr>\n",
              "    <tr>\n",
              "      <th>1</th>\n",
              "      <td>2014-01-03 00:00:00+00:00</td>\n",
              "      <td>NATIONAL</td>\n",
              "      <td>HASS</td>\n",
              "      <td>True</td>\n",
              "      <td>872</td>\n",
              "      <td>1.44</td>\n",
              "      <td>NaN</td>\n",
              "      <td>NaN</td>\n",
              "    </tr>\n",
              "    <tr>\n",
              "      <th>2</th>\n",
              "      <td>2014-01-03 00:00:00+00:00</td>\n",
              "      <td>NORTHEAST</td>\n",
              "      <td>HASS</td>\n",
              "      <td>False</td>\n",
              "      <td>1449</td>\n",
              "      <td>1.08</td>\n",
              "      <td>0.5</td>\n",
              "      <td>1.67</td>\n",
              "    </tr>\n",
              "    <tr>\n",
              "      <th>3</th>\n",
              "      <td>2014-01-03 00:00:00+00:00</td>\n",
              "      <td>NORTHEAST</td>\n",
              "      <td>HASS</td>\n",
              "      <td>True</td>\n",
              "      <td>66</td>\n",
              "      <td>1.54</td>\n",
              "      <td>1.5</td>\n",
              "      <td>2.00</td>\n",
              "    </tr>\n",
              "    <tr>\n",
              "      <th>4</th>\n",
              "      <td>2014-01-03 00:00:00+00:00</td>\n",
              "      <td>SOUTHEAST</td>\n",
              "      <td>HASS</td>\n",
              "      <td>False</td>\n",
              "      <td>2286</td>\n",
              "      <td>0.98</td>\n",
              "      <td>0.5</td>\n",
              "      <td>1.99</td>\n",
              "    </tr>\n",
              "  </tbody>\n",
              "</table>\n",
              "</div>"
            ],
            "text/plain": [
              "                       Date     Region  ... Low Price  High Price\n",
              "0 2014-01-03 00:00:00+00:00   NATIONAL  ...       NaN         NaN\n",
              "1 2014-01-03 00:00:00+00:00   NATIONAL  ...       NaN         NaN\n",
              "2 2014-01-03 00:00:00+00:00  NORTHEAST  ...       0.5        1.67\n",
              "3 2014-01-03 00:00:00+00:00  NORTHEAST  ...       1.5        2.00\n",
              "4 2014-01-03 00:00:00+00:00  SOUTHEAST  ...       0.5        1.99\n",
              "\n",
              "[5 rows x 8 columns]"
            ]
          },
          "metadata": {
            "tags": []
          },
          "execution_count": 201
        }
      ]
    },
    {
      "cell_type": "code",
      "metadata": {
        "id": "QH2i2Y9vZMkL",
        "colab_type": "code",
        "colab": {},
        "outputId": "4677b298-be25-4a5e-fed0-2f680abd57aa"
      },
      "source": [
        "# Unlike numpy arrays, pandas DataFrames can have a different dtype for each column.\n",
        "avocados.dtypes"
      ],
      "execution_count": null,
      "outputs": [
        {
          "output_type": "execute_result",
          "data": {
            "text/plain": [
              "Date                  datetime64[ns, UTC]\n",
              "Region                             object\n",
              "Variety                            object\n",
              "Organic                              bool\n",
              "Number of Stores                    int64\n",
              "Weighted Avg Price                float64\n",
              "Low Price                         float64\n",
              "High Price                        float64\n",
              "dtype: object"
            ]
          },
          "metadata": {
            "tags": []
          },
          "execution_count": 96
        }
      ]
    },
    {
      "cell_type": "code",
      "metadata": {
        "id": "8ae54T2AZMkN",
        "colab_type": "code",
        "colab": {},
        "outputId": "71920d30-96f0-481c-9c82-feb190f14bc1"
      },
      "source": [
        "# What's the regional average price of a HASS avocado every day?\n",
        "hass = avocados[avocados.Variety == 'HASS']\n",
        "hass.groupby(['Date', 'Region'])['Weighted Avg Price'].mean().unstack().ffill().plot();"
      ],
      "execution_count": null,
      "outputs": [
        {
          "output_type": "display_data",
          "data": {
            "image/png": "[encoded data removed]",
            "text/plain": [
              "<matplotlib.figure.Figure at 0x7f81f02a1dd8>"
            ]
          },
          "metadata": {
            "tags": []
          }
        }
      ]
    },
    {
      "cell_type": "code",
      "metadata": {
        "id": "_pZlE-FFZMkO",
        "colab_type": "code",
        "colab": {}
      },
      "source": [
        "def _organic_spread(group):\n",
        "\n",
        "    if len(group.columns) != 2:\n",
        "        return pd.Series(index=group.index, data=0.0)\n",
        "    \n",
        "    is_organic = group.columns.get_level_values('Organic').values.astype(bool)\n",
        "    organics = group.loc[:, is_organic].squeeze()\n",
        "    non_organics = group.loc[:, ~is_organic].squeeze()\n",
        "    diff = organics - non_organics\n",
        "    return diff\n",
        "\n",
        "def organic_spread_by_region(df):\n",
        "    \"\"\"What's the difference between the price of an organic \n",
        "    and non-organic avocado within each region?\n",
        "    \"\"\"\n",
        "    return (\n",
        "        df\n",
        "        .set_index(['Date', 'Region', 'Organic'])\n",
        "         ['Weighted Avg Price']\n",
        "        .unstack(level=['Region', 'Organic'])\n",
        "        .ffill()\n",
        "        .groupby(level='Region', axis=1)\n",
        "        .apply(_organic_spread)\n",
        "    )"
      ],
      "execution_count": null,
      "outputs": []
    },
    {
      "cell_type": "code",
      "metadata": {
        "id": "EfSY78YpZMkS",
        "colab_type": "code",
        "colab": {},
        "outputId": "48970e6f-c258-411b-bf86-c222021d4cb5"
      },
      "source": [
        "organic_spread_by_region(hass).plot();\n",
        "plt.gca().set_title(\"Daily Regional Organic Spread\");\n",
        "plt.legend(bbox_to_anchor=(1, 1));"
      ],
      "execution_count": null,
      "outputs": [
        {
          "output_type": "display_data",
          "data": {
            "image/png": "[encoded data removed]",
            "text/plain": [
              "<matplotlib.figure.Figure at 0x7f81f02fbb70>"
            ]
          },
          "metadata": {
            "tags": []
          }
        }
      ]
    },
    {
      "cell_type": "code",
      "metadata": {
        "id": "MIgSk7SMZMkV",
        "colab_type": "code",
        "colab": {},
        "outputId": "dc827126-4dc8-4714-81be-dfcfe1ba5c78"
      },
      "source": [
        "spread_correlation = organic_spread_by_region(hass).corr()\n",
        "spread_correlation"
      ],
      "execution_count": null,
      "outputs": [
        {
          "output_type": "execute_result",
          "data": {
            "text/html": [
              "<div>\n",
              "<style>\n",
              "    .dataframe thead tr:only-child th {\n",
              "        text-align: right;\n",
              "    }\n",
              "\n",
              "    .dataframe thead th {\n",
              "        text-align: left;\n",
              "    }\n",
              "\n",
              "    .dataframe tbody tr th {\n",
              "        vertical-align: top;\n",
              "    }\n",
              "</style>\n",
              "<table border=\"1\" class=\"dataframe\">\n",
              "  <thead>\n",
              "    <tr style=\"text-align: right;\">\n",
              "      <th>Region</th>\n",
              "      <th>ALASKA</th>\n",
              "      <th>HAWAII</th>\n",
              "      <th>MIDWEST</th>\n",
              "      <th>NATIONAL</th>\n",
              "      <th>NORTHEAST</th>\n",
              "      <th>NORTHWEST</th>\n",
              "      <th>SOUTHEAST</th>\n",
              "      <th>SOUTHWEST</th>\n",
              "      <th>SOUTH_CENTRAL</th>\n",
              "    </tr>\n",
              "    <tr>\n",
              "      <th>Region</th>\n",
              "      <th></th>\n",
              "      <th></th>\n",
              "      <th></th>\n",
              "      <th></th>\n",
              "      <th></th>\n",
              "      <th></th>\n",
              "      <th></th>\n",
              "      <th></th>\n",
              "      <th></th>\n",
              "    </tr>\n",
              "  </thead>\n",
              "  <tbody>\n",
              "    <tr>\n",
              "      <th>ALASKA</th>\n",
              "      <td>1.000000</td>\n",
              "      <td>0.202723</td>\n",
              "      <td>0.175251</td>\n",
              "      <td>0.007844</td>\n",
              "      <td>0.051049</td>\n",
              "      <td>0.087575</td>\n",
              "      <td>0.129079</td>\n",
              "      <td>-0.070868</td>\n",
              "      <td>0.161624</td>\n",
              "    </tr>\n",
              "    <tr>\n",
              "      <th>HAWAII</th>\n",
              "      <td>0.202723</td>\n",
              "      <td>1.000000</td>\n",
              "      <td>-0.021116</td>\n",
              "      <td>0.373914</td>\n",
              "      <td>0.247171</td>\n",
              "      <td>0.341155</td>\n",
              "      <td>0.019388</td>\n",
              "      <td>0.159192</td>\n",
              "      <td>0.092632</td>\n",
              "    </tr>\n",
              "    <tr>\n",
              "      <th>MIDWEST</th>\n",
              "      <td>0.175251</td>\n",
              "      <td>-0.021116</td>\n",
              "      <td>1.000000</td>\n",
              "      <td>0.062595</td>\n",
              "      <td>-0.010213</td>\n",
              "      <td>-0.043783</td>\n",
              "      <td>0.047437</td>\n",
              "      <td>-0.059128</td>\n",
              "      <td>0.068902</td>\n",
              "    </tr>\n",
              "    <tr>\n",
              "      <th>NATIONAL</th>\n",
              "      <td>0.007844</td>\n",
              "      <td>0.373914</td>\n",
              "      <td>0.062595</td>\n",
              "      <td>1.000000</td>\n",
              "      <td>0.502035</td>\n",
              "      <td>0.579102</td>\n",
              "      <td>-0.040539</td>\n",
              "      <td>0.635006</td>\n",
              "      <td>0.486524</td>\n",
              "    </tr>\n",
              "    <tr>\n",
              "      <th>NORTHEAST</th>\n",
              "      <td>0.051049</td>\n",
              "      <td>0.247171</td>\n",
              "      <td>-0.010213</td>\n",
              "      <td>0.502035</td>\n",
              "      <td>1.000000</td>\n",
              "      <td>0.242039</td>\n",
              "      <td>-0.236225</td>\n",
              "      <td>0.360389</td>\n",
              "      <td>0.149881</td>\n",
              "    </tr>\n",
              "    <tr>\n",
              "      <th>NORTHWEST</th>\n",
              "      <td>0.087575</td>\n",
              "      <td>0.341155</td>\n",
              "      <td>-0.043783</td>\n",
              "      <td>0.579102</td>\n",
              "      <td>0.242039</td>\n",
              "      <td>1.000000</td>\n",
              "      <td>-0.032306</td>\n",
              "      <td>0.165992</td>\n",
              "      <td>0.349935</td>\n",
              "    </tr>\n",
              "    <tr>\n",
              "      <th>SOUTHEAST</th>\n",
              "      <td>0.129079</td>\n",
              "      <td>0.019388</td>\n",
              "      <td>0.047437</td>\n",
              "      <td>-0.040539</td>\n",
              "      <td>-0.236225</td>\n",
              "      <td>-0.032306</td>\n",
              "      <td>1.000000</td>\n",
              "      <td>-0.167631</td>\n",
              "      <td>-0.021176</td>\n",
              "    </tr>\n",
              "    <tr>\n",
              "      <th>SOUTHWEST</th>\n",
              "      <td>-0.070868</td>\n",
              "      <td>0.159192</td>\n",
              "      <td>-0.059128</td>\n",
              "      <td>0.635006</td>\n",
              "      <td>0.360389</td>\n",
              "      <td>0.165992</td>\n",
              "      <td>-0.167631</td>\n",
              "      <td>1.000000</td>\n",
              "      <td>0.254504</td>\n",
              "    </tr>\n",
              "    <tr>\n",
              "      <th>SOUTH_CENTRAL</th>\n",
              "      <td>0.161624</td>\n",
              "      <td>0.092632</td>\n",
              "      <td>0.068902</td>\n",
              "      <td>0.486524</td>\n",
              "      <td>0.149881</td>\n",
              "      <td>0.349935</td>\n",
              "      <td>-0.021176</td>\n",
              "      <td>0.254504</td>\n",
              "      <td>1.000000</td>\n",
              "    </tr>\n",
              "  </tbody>\n",
              "</table>\n",
              "</div>"
            ],
            "text/plain": [
              "Region           ALASKA    HAWAII   MIDWEST  NATIONAL  NORTHEAST  NORTHWEST  \\\n",
              "Region                                                                        \n",
              "ALASKA         1.000000  0.202723  0.175251  0.007844   0.051049   0.087575   \n",
              "HAWAII         0.202723  1.000000 -0.021116  0.373914   0.247171   0.341155   \n",
              "MIDWEST        0.175251 -0.021116  1.000000  0.062595  -0.010213  -0.043783   \n",
              "NATIONAL       0.007844  0.373914  0.062595  1.000000   0.502035   0.579102   \n",
              "NORTHEAST      0.051049  0.247171 -0.010213  0.502035   1.000000   0.242039   \n",
              "NORTHWEST      0.087575  0.341155 -0.043783  0.579102   0.242039   1.000000   \n",
              "SOUTHEAST      0.129079  0.019388  0.047437 -0.040539  -0.236225  -0.032306   \n",
              "SOUTHWEST     -0.070868  0.159192 -0.059128  0.635006   0.360389   0.165992   \n",
              "SOUTH_CENTRAL  0.161624  0.092632  0.068902  0.486524   0.149881   0.349935   \n",
              "\n",
              "Region         SOUTHEAST  SOUTHWEST  SOUTH_CENTRAL  \n",
              "Region                                              \n",
              "ALASKA          0.129079  -0.070868       0.161624  \n",
              "HAWAII          0.019388   0.159192       0.092632  \n",
              "MIDWEST         0.047437  -0.059128       0.068902  \n",
              "NATIONAL       -0.040539   0.635006       0.486524  \n",
              "NORTHEAST      -0.236225   0.360389       0.149881  \n",
              "NORTHWEST      -0.032306   0.165992       0.349935  \n",
              "SOUTHEAST       1.000000  -0.167631      -0.021176  \n",
              "SOUTHWEST      -0.167631   1.000000       0.254504  \n",
              "SOUTH_CENTRAL  -0.021176   0.254504       1.000000  "
            ]
          },
          "metadata": {
            "tags": []
          },
          "execution_count": 100
        }
      ]
    },
    {
      "cell_type": "code",
      "metadata": {
        "id": "rpKykEAOZMkX",
        "colab_type": "code",
        "colab": {},
        "outputId": "5197504e-cb5e-41d5-e06d-b03eba44be30"
      },
      "source": [
        "import seaborn as sns\n",
        "grid = sns.clustermap(spread_correlation, annot=True)\n",
        "fig = grid.fig\n",
        "axes = fig.axes\n",
        "ax = axes[2]\n",
        "ax.set_xticklabels(ax.get_xticklabels(), rotation=45);"
      ],
      "execution_count": null,
      "outputs": [
        {
          "output_type": "display_data",
          "data": {
            "image/png": "[encoded data removed]",
            "text/plain": [
              "<matplotlib.figure.Figure at 0x7fcf4d952f28>"
            ]
          },
          "metadata": {
            "tags": []
          }
        }
      ]
    },
    {
      "cell_type": "markdown",
      "metadata": {
        "id": "v7C-JYOOZMkY",
        "colab_type": "text"
      },
      "source": [
        "# Pandas Review\n",
        "\n",
        "- Pandas extends numpy with more complex datastructures and algorithms.\n",
        "- If you understand numpy, you understand 90% of pandas.\n",
        "- `groupby`, `set_index`, and `unstack` are powerful tools for working with categorical data.\n",
        "- Avocado prices are surprisingly interesting :)"
      ]
    },
    {
      "cell_type": "markdown",
      "metadata": {
        "id": "Tl6k7Ig-ZMkZ",
        "colab_type": "text"
      },
      "source": [
        "# Thanks!"
      ]
    }
  ]
}